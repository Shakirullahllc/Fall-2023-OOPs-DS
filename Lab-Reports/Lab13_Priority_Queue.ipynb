{
 "cells": [
  {
   "cell_type": "markdown",
   "id": "246881df",
   "metadata": {},
   "source": [
    "<div style=\"text-align: center;\">\n",
    "    <span style=\"font-family: 'Arial Black', Gadget, sans-serif; color: #2c3e50; font-size: 32px; text-shadow: 3px 3px 6px rgba(0, 0, 0, 0.2);\">EE-271 OOP & Data Structures Lab Report</span>\n",
    "</div>\n",
    "\n",
    "<div style=\"text-align: center;\">\n",
    "    <span style=\"font-family: 'Georgia', serif; color: #8e44ad; font-size: 28px;\">Priority Queue</span>\n",
    "</div>\n",
    "\n",
    "---\n",
    "\n",
    "### 📋 <span style=\"color: #34495e;\">Lab Information</span>\n",
    "\n",
    "- **Lab No.**: <span style=\"color: #e74c3c;\">13</span>\n",
    "- **Lab Title**: <span style=\"color: #2980b9;\">Priority Queue</span>\n",
    "- **Lab Date**: <span style=\"color: #16a085;\">January 28, 2025</span>\n",
    "\n",
    "### 🙋‍♂️ <span style=\"color: #34495e;\">Submitted By</span>\n",
    "\n",
    "- **Name**: <span style=\"color: #2980b9;\">Shakir Ullah</span>\n",
    "- **Roll No.**: <span style=\"color: #e74c3c;\">23JZELE0524</span>\n",
    "- **Section**: <span style=\"color: #16a085;\">A</span>\n",
    "\n",
    "---\n",
    "\n",
    "---"
   ]
  },
  {
   "cell_type": "markdown",
   "id": "7cb28f15",
   "metadata": {},
   "source": [
    "### **Enqueue (Insert):**"
   ]
  },
  {
   "cell_type": "code",
   "execution_count": 1,
   "id": "4761a048-c267-467b-8b12-f112dbc9b2a0",
   "metadata": {},
   "outputs": [],
   "source": [
    "import heapq"
   ]
  },
  {
   "cell_type": "code",
   "execution_count": 2,
   "id": "d7cd1f53-0a4d-41b2-a7d1-14c2eb825635",
   "metadata": {},
   "outputs": [],
   "source": [
    "from heapq import heappush\n",
    "fruits = []\n",
    "heappush(fruits, \"orange\")\n",
    "heappush(fruits, \"apple\")\n",
    "heappush(fruits, \"banana\")"
   ]
  },
  {
   "cell_type": "code",
   "execution_count": 3,
   "id": "047e2f8d-4d11-4eea-b76e-4af064de148f",
   "metadata": {},
   "outputs": [
    {
     "name": "stdout",
     "output_type": "stream",
     "text": [
      "['apple', 'orange', 'banana']\n"
     ]
    }
   ],
   "source": [
    "print(fruits)"
   ]
  },
  {
   "cell_type": "markdown",
   "id": "ef613571",
   "metadata": {},
   "source": [
    "#### **Dequeue (Remove)**"
   ]
  },
  {
   "cell_type": "code",
   "execution_count": 4,
   "id": "8c2fa1b2-f6b8-423d-8543-b4e331e57622",
   "metadata": {},
   "outputs": [
    {
     "data": {
      "text/plain": [
       "['banana', 'orange']"
      ]
     },
     "execution_count": 4,
     "metadata": {},
     "output_type": "execute_result"
    }
   ],
   "source": [
    "from heapq import heappop\n",
    "heappop(fruits)\n",
    "fruits"
   ]
  },
  {
   "cell_type": "code",
   "execution_count": 5,
   "id": "e5856c1d-b57e-4ee6-92a0-8e9a0d0209de",
   "metadata": {},
   "outputs": [],
   "source": [
    "Person1 = (\"John\", \"Brown\", 42)\n",
    "person2 = (\"John\", \"Doe\", 42)\n",
    "person3 = (\"John\", \"Doe\", 24)"
   ]
  },
  {
   "cell_type": "code",
   "execution_count": 6,
   "id": "5171ccbd-df95-43cf-9f4c-4dee3753ff20",
   "metadata": {},
   "outputs": [
    {
     "data": {
      "text/plain": [
       "True"
      ]
     },
     "execution_count": 6,
     "metadata": {},
     "output_type": "execute_result"
    }
   ],
   "source": [
    "Person1 < person2"
   ]
  },
  {
   "cell_type": "code",
   "execution_count": 7,
   "id": "3b581b0b-ef97-4ad6-bb99-84413493822c",
   "metadata": {},
   "outputs": [
    {
     "data": {
      "text/plain": [
       "False"
      ]
     },
     "execution_count": 7,
     "metadata": {},
     "output_type": "execute_result"
    }
   ],
   "source": [
    "person2 < person3"
   ]
  },
  {
   "cell_type": "code",
   "execution_count": 8,
   "id": "5742343b-3766-4f6f-9b6e-f9ee842916fc",
   "metadata": {},
   "outputs": [],
   "source": [
    "from collections import deque\n",
    "from heapq import heappop, heappush\n",
    "\n",
    "class PriorityQueue:\n",
    "    def __init__(self):\n",
    "        self._elements = []\n",
    "\n",
    "    def enqueue_with_priority(self, priority, value):\n",
    "        heappush(self._elements, (priority, value))\n",
    "\n",
    "    def dequeue(self):\n",
    "        return heappop(self._elements)"
   ]
  },
  {
   "cell_type": "code",
   "execution_count": 9,
   "id": "ca934ca9-1142-4d0f-91ac-ec575ee01d49",
   "metadata": {},
   "outputs": [],
   "source": [
    "CRITICAL = 3\n",
    "IMPORTANT = 2\n",
    "NEUTRAL = 1\n",
    "\n",
    "messages = PriorityQueue()\n",
    "\n",
    "messages.enqueue_with_priority(IMPORTANT, \"Windshield wipers turned on\")\n",
    "messages.enqueue_with_priority(NEUTRAL, \"Radio station tuned in\")\n",
    "messages.enqueue_with_priority(CRITICAL, \"Brake pedal depressed\")\n",
    "messages.enqueue_with_priority(IMPORTANT, \"Hazard lights turned on\")"
   ]
  },
  {
   "cell_type": "code",
   "execution_count": 10,
   "id": "2d698c23-1e9d-47f2-9a50-820b6ad2a08a",
   "metadata": {},
   "outputs": [
    {
     "data": {
      "text/plain": [
       "[(1, 'Radio station tuned in'),\n",
       " (2, 'Hazard lights turned on'),\n",
       " (3, 'Brake pedal depressed'),\n",
       " (2, 'Windshield wipers turned on')]"
      ]
     },
     "execution_count": 10,
     "metadata": {},
     "output_type": "execute_result"
    }
   ],
   "source": [
    "messages._elements"
   ]
  },
  {
   "cell_type": "code",
   "execution_count": 11,
   "id": "62783354-8e40-4f46-a9ff-1b003c5a0062",
   "metadata": {},
   "outputs": [
    {
     "data": {
      "text/plain": [
       "(1, 'Radio station tuned in')"
      ]
     },
     "execution_count": 11,
     "metadata": {},
     "output_type": "execute_result"
    }
   ],
   "source": [
    "messages.dequeue()"
   ]
  },
  {
   "cell_type": "code",
   "execution_count": 12,
   "id": "e43da619-f0c0-41f8-9447-f863edf66b3c",
   "metadata": {},
   "outputs": [
    {
     "data": {
      "text/plain": [
       "(2, 'Hazard lights turned on')"
      ]
     },
     "execution_count": 12,
     "metadata": {},
     "output_type": "execute_result"
    }
   ],
   "source": [
    "messages.dequeue()"
   ]
  },
  {
   "cell_type": "code",
   "execution_count": 13,
   "id": "5c64d3e8-92b0-4195-8278-8400a18a0b09",
   "metadata": {},
   "outputs": [],
   "source": [
    "class PriorityQueue:\n",
    "    def __init__(self):\n",
    "        self._elements = []\n",
    "    def enqueue_with_priority(self, priority, value):\n",
    "        heapq.heappush(self._elements, (-priority, value))\n",
    "    def dequeue(self):\n",
    "        return heapq.heappop(self._elements)[1]"
   ]
  },
  {
   "cell_type": "code",
   "execution_count": 14,
   "id": "e80ca687-ad17-41f2-ba23-36794382c4d8",
   "metadata": {},
   "outputs": [],
   "source": [
    "from dataclasses import dataclass\n",
    "\n",
    "@dataclass\n",
    "class Message:\n",
    "    event: str"
   ]
  },
  {
   "cell_type": "code",
   "execution_count": 15,
   "id": "9c68ab14",
   "metadata": {},
   "outputs": [],
   "source": [
    "wipers = Message(\"Windshield wipers turned on\")\n",
    "hazard_lights = Message(\"Hazard lights turned on\")"
   ]
  },
  {
   "cell_type": "code",
   "execution_count": 16,
   "id": "acc1f49e",
   "metadata": {},
   "outputs": [
    {
     "name": "stdout",
     "output_type": "stream",
     "text": [
      "Error: '<' not supported between instances of 'Message' and 'Message'\n"
     ]
    }
   ],
   "source": [
    "messages = PriorityQueue()\n",
    "messages.enqueue_with_priority(CRITICAL, wipers)\n",
    "messages.enqueue_with_priority(IMPORTANT, hazard_lights)\n",
    "\n",
    "try:\n",
    "    messages.enqueue_with_priority(CRITICAL, Message(\"ABS engaged\"))\n",
    "except Exception as e:\n",
    "    print(f\"Error: {e}\")"
   ]
  },
  {
   "cell_type": "code",
   "execution_count": 17,
   "id": "5b9cece9-722d-49f4-bf01-d4fed2ec939c",
   "metadata": {},
   "outputs": [],
   "source": [
    "from collections import deque\n",
    "from heapq import heappop, heappush\n",
    "from itertools import count\n",
    "\n",
    "class PriorityQueue:\n",
    "    def __init__(self):\n",
    "        self._elements = []\n",
    "        self._counter = count()\n",
    "\n",
    "    def enqueue_with_priority(self, priority, value):\n",
    "        element = (-priority, next(self._counter), value)\n",
    "        heappush(self._elements, element)\n",
    "\n",
    "    def dequeue(self):\n",
    "        return heappop(self._elements)[-1]"
   ]
  },
  {
   "cell_type": "code",
   "execution_count": 18,
   "id": "e1b6468e-c29c-4dac-9b68-af16863f3aec",
   "metadata": {},
   "outputs": [],
   "source": [
    "class IterableMixin:\n",
    "    def __len__(self):\n",
    "        return len(self._elements)\n",
    "\n",
    "    def __iter__(self):\n",
    "        while len(self) > 0:\n",
    "            yield self.dequeue()"
   ]
  },
  {
   "cell_type": "code",
   "execution_count": 19,
   "id": "feb2ac5a-8a41-4618-b252-4a73ff6b2010",
   "metadata": {},
   "outputs": [],
   "source": [
    "from collections import deque\n",
    "from heapq import heappop, heappush\n",
    "from itertools import count\n",
    "\n",
    "class IterableMixin:\n",
    "    def __len__(self):\n",
    "        return len(self._elements)\n",
    "\n",
    "    def __iter__(self):\n",
    "        while len(self) > 0:\n",
    "            yield self.dequeue()\n",
    "\n",
    "class Stack:\n",
    "    def __init__(self):\n",
    "        self._elements = deque()\n",
    "\n",
    "    def enqueue(self, element):\n",
    "        self._elements.append(element)\n",
    "\n",
    "    def dequeue(self):\n",
    "        return self._elements.pop()\n",
    "\n",
    "class PriorityQueue(IterableMixin):\n",
    "    def __init__(self):\n",
    "        self._elements = []\n",
    "        self._counter = count()\n",
    "\n",
    "    def enqueue_with_priority(self, priority, value):\n",
    "        element = (-priority, next(self._counter), value)\n",
    "        heappush(self._elements, element)\n",
    "\n",
    "    def dequeue(self):\n",
    "        return heappop(self._elements)[-1]\n",
    "\n",
    "class Queue(IterableMixin):\n",
    "    def __init__(self, *elements):\n",
    "        self._elements = deque(elements)\n",
    "\n",
    "    def enqueue(self, element):\n",
    "        self._elements.append(element)\n",
    "\n",
    "    def dequeue(self):\n",
    "        return self._elements.popleft()"
   ]
  },
  {
   "cell_type": "markdown",
   "id": "51520d4d",
   "metadata": {},
   "source": [
    "---"
   ]
  }
 ],
 "metadata": {
  "kernelspec": {
   "display_name": "Python 3",
   "language": "python",
   "name": "python3"
  },
  "language_info": {
   "codemirror_mode": {
    "name": "ipython",
    "version": 3
   },
   "file_extension": ".py",
   "mimetype": "text/x-python",
   "name": "python",
   "nbconvert_exporter": "python",
   "pygments_lexer": "ipython3",
   "version": "3.12.8"
  }
 },
 "nbformat": 4,
 "nbformat_minor": 5
}
