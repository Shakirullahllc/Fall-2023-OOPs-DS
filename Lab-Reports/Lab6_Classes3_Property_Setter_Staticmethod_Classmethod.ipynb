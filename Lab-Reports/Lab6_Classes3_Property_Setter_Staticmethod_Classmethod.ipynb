{
 "cells": [
  {
   "cell_type": "markdown",
   "metadata": {},
   "source": [
    "<h1 style=\"font-family: 'Arial Black', Gadget, sans-serif; text-align: center; color: linear-gradient(to right, #FF5733, #C70039, #900C3F);\">\n",
    "🎓 EE-271 OOP & Data Structures Lab Report\n",
    "</h1>\n",
    "\n",
    "---\n",
    "\n",
    "## <span style=\"font-family: 'Georgia', serif; color: #4CAF50;\">📋 Lab Information</span>  \n",
    "- **<span style=\"color: #FFC107;\">Lab No.:</span>** `6`  \n",
    "- **<span style=\"color: #FFC107;\">Lab Title:</span>** `Classes 3 @property and @property.setter, @property, @ staticmethod and @classmethod`  \n",
    "- **<span style=\"color: #FFC107;\">Lab Date:</span>** `January 18, 2025`  \n",
    "\n",
    "---\n",
    "\n",
    "## <span style=\"font-family: 'Georgia', serif; color: #4CAF50;\">🙋‍♂️ Submitted By</span>  \n",
    "- **<span style=\"color: #FFC107;\">Name:</span>** `Shakir Ullah`  \n",
    "- **<span style=\"color: #FFC107;\">Roll No.:</span>** `23JZELE0524`  \n",
    "- **<span style=\"color: #FFC107;\">Section:</span>** `A`  \n",
    "\n",
    "---"
   ]
  },
  {
   "cell_type": "markdown",
   "metadata": {},
   "source": [
    "## <span style=\"font-family: 'Georgia', serif; color: #4CAF50;\">Lab Task</span>\n",
    "1. Define a class Circle. Your class must have the appropriate `__init__` method.\n",
    "    - **i. Add appropriate property methods. (`@property` and `@property.setter`)**\n",
    "    - **ii. Add an instance method for the volume of a cylinder with the given radius.**\n",
    "    - **iii. Add property methods for area, circumference, and diameter.**\n",
    "    - **iv. Add `__repr__` and `__str__` to the class.**\n",
    "    - **v. Add proper annotations and docstrings to every class and instance method.**\n",
    "    - **vi. Include methods decorated with `@staticmethod` and `@classmethod` if possible.**\n"
   ]
  },
  {
   "cell_type": "code",
   "execution_count": 29,
   "metadata": {},
   "outputs": [],
   "source": [
    "import math\n",
    "\n",
    "class Circle:\n",
    "    \"\"\"\n",
    "    Represents a circle.\n",
    "    \"\"\"\n",
    "    \n",
    "    def __init__(self, radius: float = 1.0):\n",
    "        \"\"\"\n",
    "        Initializes a circle with a given radius. Default is 1.0.\n",
    "        \"\"\"\n",
    "        self.radius = radius\n",
    "\n",
    "    @property\n",
    "    def area(self) -> float:\n",
    "        \"\"\"\n",
    "        Returns the area of the circle.\n",
    "        \"\"\"\n",
    "        return math.pi * self.radius ** 2\n",
    "\n",
    "    @property\n",
    "    def circumference(self) -> float:\n",
    "        \"\"\"\n",
    "        Returns the circumference of the circle.\n",
    "        \"\"\"\n",
    "        return 2 * math.pi * self.radius\n",
    "\n",
    "    @property\n",
    "    def diameter(self) -> float:\n",
    "        \"\"\"\n",
    "        Returns the diameter of the circle.\n",
    "        \"\"\"\n",
    "        return 2 * self.radius\n",
    "\n",
    "    def volume_of_cylinder(self, height: float) -> float:\n",
    "        \"\"\"\n",
    "        Returns the volume of a cylinder with given height.\n",
    "        \"\"\"\n",
    "        return self.area * height\n",
    "\n",
    "    def __str__(self) -> str:\n",
    "        \"\"\"\n",
    "        String representation of the circle.\n",
    "        \"\"\"\n",
    "        return f\"Circle with radius {self.radius}\"\n",
    "\n",
    "    def __repr__(self) -> str:\n",
    "        \"\"\"\n",
    "        Detailed string representation of the circle.\n",
    "        \"\"\"\n",
    "        return f\"Circle(radius={self.radius})\"\n",
    "\n",
    "    @staticmethod\n",
    "    def general_info():\n",
    "        \"\"\"\n",
    "        Provides general information about circles.\n",
    "        \"\"\"\n",
    "        return \"A circle is a round shape with all points equidistant from the center.\"\n",
    "\n",
    "    @classmethod\n",
    "    def from_diameter(cls, diameter: float) -> 'Circle':\n",
    "        \"\"\"\n",
    "        Creates a Circle using diameter.\n",
    "        \"\"\"\n",
    "        radius = diameter / 2\n",
    "        return cls(radius)"
   ]
  },
  {
   "cell_type": "markdown",
   "metadata": {},
   "source": [
    "**a. Define inst_1 and pass two numbers.**"
   ]
  },
  {
   "cell_type": "code",
   "execution_count": 30,
   "metadata": {},
   "outputs": [],
   "source": [
    "inst_1 = Circle(7)"
   ]
  },
  {
   "cell_type": "markdown",
   "metadata": {},
   "source": [
    "**b. Make another instance inst_2.**"
   ]
  },
  {
   "cell_type": "code",
   "execution_count": 31,
   "metadata": {},
   "outputs": [],
   "source": [
    "inst_2 = Circle(4)"
   ]
  },
  {
   "cell_type": "markdown",
   "metadata": {},
   "source": [
    "**c. Print inst_1 and inst_2 using print.**"
   ]
  },
  {
   "cell_type": "code",
   "execution_count": 32,
   "metadata": {},
   "outputs": [
    {
     "name": "stdout",
     "output_type": "stream",
     "text": [
      "Circle with radius 7\n"
     ]
    }
   ],
   "source": [
    "print(inst_1)"
   ]
  },
  {
   "cell_type": "code",
   "execution_count": 33,
   "metadata": {},
   "outputs": [
    {
     "name": "stdout",
     "output_type": "stream",
     "text": [
      "Circle with radius 4\n"
     ]
    }
   ],
   "source": [
    "print(inst_2)"
   ]
  },
  {
   "cell_type": "markdown",
   "metadata": {},
   "source": [
    "**d. Demonstrating property methods.**"
   ]
  },
  {
   "cell_type": "code",
   "execution_count": 34,
   "metadata": {},
   "outputs": [
    {
     "name": "stdout",
     "output_type": "stream",
     "text": [
      "Area of inst_1: 153.93804002589985\n",
      "Circumference of inst_1: 43.982297150257104\n",
      "Diameter of inst_1: 14\n"
     ]
    }
   ],
   "source": [
    "print(f\"Area of inst_1: {inst_1.area}\")\n",
    "print(f\"Circumference of inst_1: {inst_1.circumference}\")\n",
    "print(f\"Diameter of inst_1: {inst_1.diameter}\")"
   ]
  },
  {
   "cell_type": "markdown",
   "metadata": {},
   "source": [
    "**e. Call the __dict__ by the class name.**"
   ]
  },
  {
   "cell_type": "code",
   "execution_count": 35,
   "metadata": {},
   "outputs": [
    {
     "data": {
      "text/plain": [
       "mappingproxy({'__module__': '__main__',\n",
       "              '__doc__': '\\n    Represents a circle.\\n    ',\n",
       "              '__init__': <function __main__.Circle.__init__(self, radius: float = 1.0)>,\n",
       "              'area': <property at 0x1b526a24c20>,\n",
       "              'circumference': <property at 0x1b526a27380>,\n",
       "              'diameter': <property at 0x1b526a27330>,\n",
       "              'volume_of_cylinder': <function __main__.Circle.volume_of_cylinder(self, height: float) -> float>,\n",
       "              '__str__': <function __main__.Circle.__str__(self) -> str>,\n",
       "              '__repr__': <function __main__.Circle.__repr__(self) -> str>,\n",
       "              'general_info': <staticmethod(<function Circle.general_info at 0x000001B526A28D60>)>,\n",
       "              'from_diameter': <classmethod(<function Circle.from_diameter at 0x000001B526A28EA0>)>,\n",
       "              '__dict__': <attribute '__dict__' of 'Circle' objects>,\n",
       "              '__weakref__': <attribute '__weakref__' of 'Circle' objects>})"
      ]
     },
     "execution_count": 35,
     "metadata": {},
     "output_type": "execute_result"
    }
   ],
   "source": [
    "Circle.__dict__"
   ]
  },
  {
   "cell_type": "markdown",
   "metadata": {},
   "source": [
    "**f. Pass the class name to the vars built-in function.**"
   ]
  },
  {
   "cell_type": "code",
   "execution_count": 36,
   "metadata": {},
   "outputs": [
    {
     "data": {
      "text/plain": [
       "mappingproxy({'__module__': '__main__',\n",
       "              '__doc__': '\\n    Represents a circle.\\n    ',\n",
       "              '__init__': <function __main__.Circle.__init__(self, radius: float = 1.0)>,\n",
       "              'area': <property at 0x1b526a24c20>,\n",
       "              'circumference': <property at 0x1b526a27380>,\n",
       "              'diameter': <property at 0x1b526a27330>,\n",
       "              'volume_of_cylinder': <function __main__.Circle.volume_of_cylinder(self, height: float) -> float>,\n",
       "              '__str__': <function __main__.Circle.__str__(self) -> str>,\n",
       "              '__repr__': <function __main__.Circle.__repr__(self) -> str>,\n",
       "              'general_info': <staticmethod(<function Circle.general_info at 0x000001B526A28D60>)>,\n",
       "              'from_diameter': <classmethod(<function Circle.from_diameter at 0x000001B526A28EA0>)>,\n",
       "              '__dict__': <attribute '__dict__' of 'Circle' objects>,\n",
       "              '__weakref__': <attribute '__weakref__' of 'Circle' objects>})"
      ]
     },
     "execution_count": 36,
     "metadata": {},
     "output_type": "execute_result"
    }
   ],
   "source": [
    "vars(Circle)"
   ]
  },
  {
   "cell_type": "markdown",
   "metadata": {},
   "source": [
    "**g. Call the __dict__ on the object of the class.**"
   ]
  },
  {
   "cell_type": "code",
   "execution_count": 37,
   "metadata": {},
   "outputs": [
    {
     "data": {
      "text/plain": [
       "{'radius': 7}"
      ]
     },
     "execution_count": 37,
     "metadata": {},
     "output_type": "execute_result"
    }
   ],
   "source": [
    "inst_1.__dict__"
   ]
  },
  {
   "cell_type": "markdown",
   "metadata": {},
   "source": [
    "**h. Pass the class name to help.**"
   ]
  },
  {
   "cell_type": "code",
   "execution_count": 38,
   "metadata": {},
   "outputs": [
    {
     "name": "stdout",
     "output_type": "stream",
     "text": [
      "Help on class Circle in module __main__:\n",
      "\n",
      "class Circle(builtins.object)\n",
      " |  Circle(radius: float = 1.0)\n",
      " |\n",
      " |  Represents a circle.\n",
      " |\n",
      " |  Methods defined here:\n",
      " |\n",
      " |  __init__(self, radius: float = 1.0)\n",
      " |      Initializes a circle with a given radius. Default is 1.0.\n",
      " |\n",
      " |  __repr__(self) -> str\n",
      " |      Detailed string representation of the circle.\n",
      " |\n",
      " |  __str__(self) -> str\n",
      " |      String representation of the circle.\n",
      " |\n",
      " |  volume_of_cylinder(self, height: float) -> float\n",
      " |      Returns the volume of a cylinder with given height.\n",
      " |\n",
      " |  ----------------------------------------------------------------------\n",
      " |  Class methods defined here:\n",
      " |\n",
      " |  from_diameter(diameter: float) -> 'Circle'\n",
      " |      Creates a Circle using diameter.\n",
      " |\n",
      " |  ----------------------------------------------------------------------\n",
      " |  Static methods defined here:\n",
      " |\n",
      " |  general_info()\n",
      " |      Provides general information about circles.\n",
      " |\n",
      " |  ----------------------------------------------------------------------\n",
      " |  Readonly properties defined here:\n",
      " |\n",
      " |  area\n",
      " |      Returns the area of the circle.\n",
      " |\n",
      " |  circumference\n",
      " |      Returns the circumference of the circle.\n",
      " |\n",
      " |  diameter\n",
      " |      Returns the diameter of the circle.\n",
      " |\n",
      " |  ----------------------------------------------------------------------\n",
      " |  Data descriptors defined here:\n",
      " |\n",
      " |  __dict__\n",
      " |      dictionary for instance variables\n",
      " |\n",
      " |  __weakref__\n",
      " |      list of weak references to the object\n",
      "\n"
     ]
    }
   ],
   "source": [
    "help(Circle)\n"
   ]
  },
  {
   "cell_type": "markdown",
   "metadata": {},
   "source": [
    "**i. Print the doc-string and annotations of both the class and each instance method.**"
   ]
  },
  {
   "cell_type": "code",
   "execution_count": 39,
   "metadata": {},
   "outputs": [
    {
     "name": "stdout",
     "output_type": "stream",
     "text": [
      "\n",
      "    Represents a circle.\n",
      "    \n",
      "__class__: type(object) -> the object's type\n",
      "type(name, bases, dict, **kwds) -> a new type\n",
      "__delattr__: Implement delattr(self, name).\n",
      "__dir__: Default dir() implementation.\n",
      "__eq__: Return self==value.\n",
      "__format__: Default object formatter.\n",
      "\n",
      "Return str(self) if format_spec is empty. Raise TypeError otherwise.\n",
      "__ge__: Return self>=value.\n",
      "__getattribute__: Return getattr(self, name).\n",
      "__getstate__: Helper for pickle.\n",
      "__gt__: Return self>value.\n",
      "__hash__: Return hash(self).\n",
      "__init__: \n",
      "        Initializes a circle with a given radius. Default is 1.0.\n",
      "        \n",
      "__init_subclass__: This method is called when a class is subclassed.\n",
      "\n",
      "The default implementation does nothing. It may be\n",
      "overridden to extend subclasses.\n",
      "\n",
      "__le__: Return self<=value.\n",
      "__lt__: Return self<value.\n",
      "__ne__: Return self!=value.\n",
      "__new__: Create and return a new object.  See help(type) for accurate signature.\n",
      "__reduce__: Helper for pickle.\n",
      "__reduce_ex__: Helper for pickle.\n",
      "__repr__: \n",
      "        Detailed string representation of the circle.\n",
      "        \n",
      "__setattr__: Implement setattr(self, name, value).\n",
      "__sizeof__: Size of object in memory, in bytes.\n",
      "__str__: \n",
      "        String representation of the circle.\n",
      "        \n",
      "__subclasshook__: Abstract classes can override this to customize issubclass().\n",
      "\n",
      "This is invoked early on by abc.ABCMeta.__subclasscheck__().\n",
      "It should return True, False or NotImplemented.  If it returns\n",
      "NotImplemented, the normal algorithm is used.  Otherwise, it\n",
      "overrides the normal algorithm (and the outcome is cached).\n",
      "\n",
      "from_diameter: \n",
      "        Creates a Circle using diameter.\n",
      "        \n",
      "general_info: \n",
      "        Provides general information about circles.\n",
      "        \n",
      "volume_of_cylinder: \n",
      "        Returns the volume of a cylinder with given height.\n",
      "        \n"
     ]
    }
   ],
   "source": [
    "print(Circle.__doc__)\n",
    "for method in dir(Circle):\n",
    "    if callable(getattr(Circle, method)):\n",
    "        print(f\"{method}: {getattr(Circle, method).__doc__}\")"
   ]
  },
  {
   "cell_type": "markdown",
   "metadata": {},
   "source": [
    "**j. Modify the __init__ by making its parameters default and verify by instances.**"
   ]
  },
  {
   "cell_type": "code",
   "execution_count": 40,
   "metadata": {},
   "outputs": [
    {
     "name": "stdout",
     "output_type": "stream",
     "text": [
      "Circle with radius 1.0\n"
     ]
    }
   ],
   "source": [
    "inst_3 = Circle()\n",
    "print(inst_3)"
   ]
  },
  {
   "cell_type": "markdown",
   "metadata": {},
   "source": [
    "**Print the volume of cylinder for each instance with a height of 10.**"
   ]
  },
  {
   "cell_type": "code",
   "execution_count": 41,
   "metadata": {},
   "outputs": [
    {
     "name": "stdout",
     "output_type": "stream",
     "text": [
      "Volume of cylinder (inst_1, height=10): 1539.3804002589986\n",
      "Volume of cylinder (inst_2, height=10): 502.6548245743669\n"
     ]
    }
   ],
   "source": [
    "print(f\"Volume of cylinder (inst_1, height=10): {inst_1.volume_of_cylinder(10)}\")\n",
    "print(f\"Volume of cylinder (inst_2, height=10): {inst_2.volume_of_cylinder(10)}\")"
   ]
  },
  {
   "cell_type": "markdown",
   "metadata": {},
   "source": [
    "**Demonstrating static and class methods.**"
   ]
  },
  {
   "cell_type": "code",
   "execution_count": 42,
   "metadata": {},
   "outputs": [
    {
     "name": "stdout",
     "output_type": "stream",
     "text": [
      "A circle is a round shape with all points equidistant from the center.\n",
      "Circle with radius 5.0\n"
     ]
    }
   ],
   "source": [
    "print(Circle.general_info())\n",
    "inst_4 = Circle.from_diameter(10)\n",
    "print(inst_4)"
   ]
  },
  {
   "cell_type": "markdown",
   "metadata": {},
   "source": [
    "---"
   ]
  }
 ],
 "metadata": {
  "kernelspec": {
   "display_name": "Python 3",
   "language": "python",
   "name": "python3"
  },
  "language_info": {
   "codemirror_mode": {
    "name": "ipython",
    "version": 3
   },
   "file_extension": ".py",
   "mimetype": "text/x-python",
   "name": "python",
   "nbconvert_exporter": "python",
   "pygments_lexer": "ipython3",
   "version": "3.12.8"
  }
 },
 "nbformat": 4,
 "nbformat_minor": 2
}
