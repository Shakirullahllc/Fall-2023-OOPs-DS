{
 "cells": [
  {
   "cell_type": "markdown",
   "metadata": {},
   "source": [
    "<h1 style=\"font-family: 'Arial Black', Gadget, sans-serif; text-align: center; color: #6a0dad; background: linear-gradient(to right, blue, purple); -webkit-background-clip: text; color: transparent;\">\n",
    "    🎓 EE-271 OOP & Data Structures Lab Report\n",
    "</h1>\n",
    "\n",
    "---\n",
    "\n",
    "## <span style=\"font-family: 'Georgia', serif; color: #27ae60;\">📋 Lab Information</span>  \n",
    "- **<span style=\"color: #e67e22;\">Lab No.:</span>** 7  \n",
    "- **<span style=\"color: #e67e22;\">Lab Title:</span>**  Inheritance  \n",
    "- **<span style=\"color: #e67e22;\">Lab Date:</span>** January 9, 2025  \n",
    "\n",
    "---\n",
    "\n",
    "## <span style=\"font-family: 'Georgia', serif; color: #27ae60;\">🙋‍♂️ Submitted By</span>  \n",
    "- **<span style=\"color: #e67e22;\">Name:</span>** Shakir Ullah  \n",
    "- **<span style=\"color: #e67e22;\">Roll No.:</span>** 23JZELE0524  \n",
    "- **<span style=\"color: #e67e22;\">Section:</span>** A  \n",
    "\n",
    "---"
   ]
  },
  {
   "cell_type": "markdown",
   "metadata": {},
   "source": [
    "### ***Lab report task:***\n",
    "##### ***Problem 1:***"
   ]
  },
  {
   "cell_type": "markdown",
   "metadata": {},
   "source": [
    "- **I.\tTake the example of the rectangle class in the last lab and inherit a square class from the rectangle class.**"
   ]
  },
  {
   "cell_type": "code",
   "execution_count": 1,
   "metadata": {},
   "outputs": [],
   "source": [
    "class Rectangle:\n",
    "    def __init__(self, length, width):\n",
    "        self.length = length\n",
    "        self.width = width\n",
    "\n",
    "    def area(self):\n",
    "        return self.length * self.width\n",
    "\n",
    "    def perimeter(self):\n",
    "        return 2 * (self.length + self.width)\n",
    "    \n",
    "    def __str__(self):\n",
    "        return f\"Rectangle with ({self.length}, {self.width})\"\n",
    "\n",
    "    def __repr__(self):\n",
    "        return f\"Rectangle(length={self.length}, width={self.width})\"\n",
    "\n",
    "class Square(Rectangle):\n",
    "    def __init__(self, side):\n",
    "        super().__init__(side, side)\n",
    "\n",
    "    def __str__(self):\n",
    "        return f\"Square with side {self.length}\"\n",
    "\n",
    "    def __repr__(self):\n",
    "        return f\"Square(side={self.length})\""
   ]
  },
  {
   "cell_type": "markdown",
   "metadata": {},
   "source": [
    "- **I.\tCreate two instances of the square class and call the instance methods.**"
   ]
  },
  {
   "cell_type": "code",
   "execution_count": 2,
   "metadata": {},
   "outputs": [],
   "source": [
    "# Create two distinct instances of the Square class\n",
    "sqr1 = Square(4)\n",
    "sqr2 = Square(7)"
   ]
  },
  {
   "cell_type": "code",
   "execution_count": 3,
   "metadata": {},
   "outputs": [
    {
     "name": "stdout",
     "output_type": "stream",
     "text": [
      "Area of Square with side 4: 16\n",
      "Perimeter of Square with side 4: 16\n",
      "Area of Square with side 7: 49\n",
      "Perimeter of Square with side 7: 28\n"
     ]
    }
   ],
   "source": [
    "# Call instance methods on the created instances\n",
    "print(f\"Area of {sqr1}: {sqr1.area()}\")\n",
    "print(f\"Perimeter of {sqr1}: {sqr1.perimeter()}\")\n",
    "print(f\"Area of {sqr2}: {sqr2.area()}\")\n",
    "print(f\"Perimeter of {sqr2}: {sqr2.perimeter()}\")"
   ]
  }
 ],
 "metadata": {
  "kernelspec": {
   "display_name": "Python 3",
   "language": "python",
   "name": "python3"
  },
  "language_info": {
   "codemirror_mode": {
    "name": "ipython",
    "version": 3
   },
   "file_extension": ".py",
   "mimetype": "text/x-python",
   "name": "python",
   "nbconvert_exporter": "python",
   "pygments_lexer": "ipython3",
   "version": "3.12.8"
  }
 },
 "nbformat": 4,
 "nbformat_minor": 2
}
