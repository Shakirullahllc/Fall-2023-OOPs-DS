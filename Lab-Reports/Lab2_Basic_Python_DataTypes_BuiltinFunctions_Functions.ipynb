{
 "cells": [
  {
   "cell_type": "markdown",
   "id": "365ef811",
   "metadata": {},
   "source": [
    "<h1 style=\"font-family: 'Arial Black', Gadget, sans-serif; text-align: center; color: linear-gradient(to right, blue, purple);\">\n",
    "🎓 EE-271 OOP & Data Structures Lab Report\n",
    "</h1>\n",
    "\n",
    "---\n",
    "\n",
    "## <span style=\"font-family: 'Georgia', serif; color: green;\">📋 Lab Information</span>  \n",
    "- **<span style=\"color: orange;\">Lab No.:</span>** `2`  \n",
    "- **<span style=\"color: orange;\">Lab Title:</span>** `Basic Python Data Types, Built-in Functions, and Function Design`  \n",
    "- **<span style=\"color: orange;\">Lab Date:</span>** `January 5, 2025`  \n",
    "\n",
    "---\n",
    "\n",
    "## <span style=\"font-family: 'Georgia', serif; color: green;\">🙋‍♂️ Submitted By</span>  \n",
    "- **<span style=\"color: orange;\">Name:</span>** `Shakir Ullah`  \n",
    "- **<span style=\"color: orange;\">Roll No.:</span>** `23JZELE0524`  \n",
    "- **<span style=\"color: orange;\">Section:</span>** `A`  \n",
    "\n",
    "---"
   ]
  },
  {
   "cell_type": "markdown",
   "id": "c90c8eb1",
   "metadata": {},
   "source": [
    "### Lab Report Task  \n",
    "***i. Define a function that will take the parameters as current and resistance and will output the voltage across the resistance.***"
   ]
  },
  {
   "cell_type": "code",
   "execution_count": 2,
   "id": "d51648ba-8924-40fb-83dc-bc5232c91c93",
   "metadata": {
    "ExecuteTime": {
     "end_time": "2024-12-15T12:33:50.727716Z",
     "start_time": "2024-12-15T12:33:50.720612Z"
    }
   },
   "outputs": [],
   "source": [
    "def calculate_voltage(I, R):\n",
    "    print(f\"Current = {I} A \\nResistance = {R} Ohms \\nSo the Voltage across the resistor will be = {I * R} V\")"
   ]
  },
  {
   "cell_type": "markdown",
   "id": "02ee2b21",
   "metadata": {},
   "source": [
    "**a. The argument pass will like positional arguments.**"
   ]
  },
  {
   "cell_type": "code",
   "execution_count": 3,
   "id": "0d4cf674-1de0-4dec-bac1-5faf488ae1ff",
   "metadata": {
    "ExecuteTime": {
     "end_time": "2024-12-15T12:33:51.043160Z",
     "start_time": "2024-12-15T12:33:51.038002Z"
    }
   },
   "outputs": [
    {
     "name": "stdout",
     "output_type": "stream",
     "text": [
      "Current = 3.3 A \n",
      "Resistance = 10 Ohms \n",
      "So the Voltage across the resistor will be = 33.0 V\n"
     ]
    }
   ],
   "source": [
    "calculate_voltage(3.3,10)"
   ]
  },
  {
   "cell_type": "markdown",
   "id": "1129e681",
   "metadata": {},
   "source": [
    "**b. The arguments passing will like keyword arguments.**"
   ]
  },
  {
   "cell_type": "code",
   "execution_count": 4,
   "id": "3e1ea0cd-b722-44db-9231-2f51e573932a",
   "metadata": {
    "ExecuteTime": {
     "end_time": "2024-12-15T12:33:51.699994Z",
     "start_time": "2024-12-15T12:33:51.695051Z"
    }
   },
   "outputs": [
    {
     "name": "stdout",
     "output_type": "stream",
     "text": [
      "Current = 5 A \n",
      "Resistance = 9 Ohms \n",
      "So the Voltage across the resistor will be = 45 V\n"
     ]
    }
   ],
   "source": [
    "calculate_voltage(I=5, R=9)"
   ]
  },
  {
   "cell_type": "markdown",
   "id": "92b831d6",
   "metadata": {},
   "source": [
    "**c. The arguments passing will like default arguments.**"
   ]
  },
  {
   "cell_type": "code",
   "execution_count": 5,
   "id": "159da346-81b0-479f-af24-034f15ee9736",
   "metadata": {
    "ExecuteTime": {
     "end_time": "2024-12-15T12:33:51.797680Z",
     "start_time": "2024-12-15T12:33:51.794559Z"
    }
   },
   "outputs": [],
   "source": [
    "def calculate_voltage(I=1, R=1):\n",
    "    print(f\"Current = {I} A \\nResistance = {R} Ohms \\nSo the Voltage across the resistor will be = {I * R} V\")\n"
   ]
  },
  {
   "cell_type": "code",
   "execution_count": 6,
   "id": "5f2145a6-4c65-445e-8aeb-cbbf624f04ab",
   "metadata": {
    "ExecuteTime": {
     "end_time": "2024-12-15T12:33:52.060912Z",
     "start_time": "2024-12-15T12:33:52.056784Z"
    }
   },
   "outputs": [
    {
     "name": "stdout",
     "output_type": "stream",
     "text": [
      "Current = 1 A \n",
      "Resistance = 1 Ohms \n",
      "So the Voltage across the resistor will be = 1 V\n"
     ]
    }
   ],
   "source": [
    "# Using default arguments\n",
    "calculate_voltage()"
   ]
  },
  {
   "cell_type": "code",
   "execution_count": 7,
   "id": "d4258a65-0ade-430a-a55f-8f64a7fed7c8",
   "metadata": {
    "ExecuteTime": {
     "end_time": "2024-12-15T12:33:52.190181Z",
     "start_time": "2024-12-15T12:33:52.185968Z"
    }
   },
   "outputs": [
    {
     "name": "stdout",
     "output_type": "stream",
     "text": [
      "Current = 9 A \n",
      "Resistance = 1 Ohms \n",
      "So the Voltage across the resistor will be = 9 V\n"
     ]
    }
   ],
   "source": [
    "# Overwrite default values\n",
    "calculate_voltage(I=9)"
   ]
  },
  {
   "cell_type": "code",
   "execution_count": 8,
   "id": "ced6e2f3-fcdd-4692-9059-fbb7b55b28dd",
   "metadata": {
    "ExecuteTime": {
     "end_time": "2024-12-15T12:33:53.276421Z",
     "start_time": "2024-12-15T12:33:53.271545Z"
    }
   },
   "outputs": [
    {
     "name": "stdout",
     "output_type": "stream",
     "text": [
      "Current = 3 A \n",
      "Resistance = 5 Ohms \n",
      "So the Voltage across the resistor will be = 15 V\n"
     ]
    }
   ],
   "source": [
    "# You can passed both arguments\n",
    "calculate_voltage(I=3,R=5)"
   ]
  },
  {
   "cell_type": "markdown",
   "id": "bb55b5a7",
   "metadata": {},
   "source": [
    "**d. Pass the arguments of one style to the other.**"
   ]
  },
  {
   "cell_type": "code",
   "execution_count": 9,
   "id": "703c49ed-4c7a-472c-98bc-2a9fddd08c03",
   "metadata": {
    "ExecuteTime": {
     "end_time": "2024-12-15T12:33:53.848213Z",
     "start_time": "2024-12-15T12:33:53.843304Z"
    }
   },
   "outputs": [
    {
     "name": "stdout",
     "output_type": "stream",
     "text": [
      "Current = 4 A \n",
      "Resistance = 10 Ohms \n",
      "So the Voltage across the resistor will be = 40 V\n",
      "Current = 4 A \n",
      "Resistance = 15 Ohms \n",
      "So the Voltage across the resistor will be = 60 V\n"
     ]
    }
   ],
   "source": [
    "# Positional arguments:\n",
    "calculate_voltage(4, 10)\n",
    "\n",
    "# Mixing positional and keyword:\n",
    "calculate_voltage(4, R=15)\n"
   ]
  },
  {
   "cell_type": "markdown",
   "id": "cd6a852c",
   "metadata": {},
   "source": [
    "**e. Passing less number of arguments and check the error message.**"
   ]
  },
  {
   "cell_type": "code",
   "execution_count": 10,
   "id": "4677f87c-d356-4042-9a35-0caa53727d4f",
   "metadata": {
    "ExecuteTime": {
     "end_time": "2024-12-15T12:33:54.139647Z",
     "start_time": "2024-12-15T12:33:54.134646Z"
    }
   },
   "outputs": [
    {
     "name": "stdout",
     "output_type": "stream",
     "text": [
      "Current = 5 A \n",
      "Resistance = 1 Ohms \n",
      "So the Voltage across the resistor will be = 5 V\n"
     ]
    }
   ],
   "source": [
    "# Passing only one argument (positional)\n",
    "calculate_voltage(5)"
   ]
  },
  {
   "cell_type": "code",
   "execution_count": 11,
   "id": "54528142",
   "metadata": {
    "ExecuteTime": {
     "end_time": "2024-12-15T12:33:54.603692Z",
     "start_time": "2024-12-15T12:33:54.599004Z"
    }
   },
   "outputs": [
    {
     "name": "stdout",
     "output_type": "stream",
     "text": [
      "Current = 7 A \n",
      "Resistance = 1 Ohms \n",
      "So the Voltage across the resistor will be = 7 V\n"
     ]
    }
   ],
   "source": [
    "# Passing only one argument (keyword)\n",
    "calculate_voltage(I=7)"
   ]
  },
  {
   "cell_type": "markdown",
   "id": "ad32ed43",
   "metadata": {},
   "source": [
    "**f. Verify that whether positional argument follows keyword argument.**"
   ]
  },
  {
   "cell_type": "code",
   "execution_count": 16,
   "id": "cd5878dd-f267-4bf7-b671-78fe2471d19a",
   "metadata": {
    "ExecuteTime": {
     "end_time": "2024-12-15T12:33:54.809503Z",
     "start_time": "2024-12-15T12:33:54.803610Z"
    }
   },
   "outputs": [
    {
     "ename": "SyntaxError",
     "evalue": "positional argument follows keyword argument (2171749240.py, line 1)",
     "output_type": "error",
     "traceback": [
      "\u001b[1;36m  Cell \u001b[1;32mIn[16], line 1\u001b[1;36m\u001b[0m\n\u001b[1;33m    calculate_voltage(I=2, 10)\u001b[0m\n\u001b[1;37m                             ^\u001b[0m\n\u001b[1;31mSyntaxError\u001b[0m\u001b[1;31m:\u001b[0m positional argument follows keyword argument\n"
     ]
    }
   ],
   "source": [
    "calculate_voltage(I=2, 10)"
   ]
  },
  {
   "cell_type": "code",
   "execution_count": 17,
   "id": "6ae6c9ca",
   "metadata": {},
   "outputs": [
    {
     "name": "stdout",
     "output_type": "stream",
     "text": [
      "Current = 2 A \n",
      "Resistance = 10 Ohms \n",
      "So the Voltage across the resistor will be = 20 V\n"
     ]
    }
   ],
   "source": [
    "# Correcting positional arguments before keyword arguments\n",
    "calculate_voltage(2, R=10)"
   ]
  },
  {
   "cell_type": "markdown",
   "id": "775de9c2",
   "metadata": {},
   "source": [
    "---"
   ]
  }
 ],
 "metadata": {
  "kernelspec": {
   "display_name": "Python 3",
   "language": "python",
   "name": "python3"
  },
  "language_info": {
   "codemirror_mode": {
    "name": "ipython",
    "version": 3
   },
   "file_extension": ".py",
   "mimetype": "text/x-python",
   "name": "python",
   "nbconvert_exporter": "python",
   "pygments_lexer": "ipython3",
   "version": "3.12.8"
  }
 },
 "nbformat": 4,
 "nbformat_minor": 5
}
