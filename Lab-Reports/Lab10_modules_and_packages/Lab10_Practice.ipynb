{
 "cells": [
  {
   "cell_type": "markdown",
   "metadata": {},
   "source": [
    "<h1 style=\"font-family: 'Arial Black', Gadget, sans-serif; text-align: center; color: linear-gradient(to right, blue, purple);\">\n",
    "🎓 EE-271 OOP & Data Structures Lab Report\n",
    "</h1>\n",
    "\n",
    "---\n",
    "\n",
    "## <span style=\"font-family: 'Georgia', serif; color: green;\">📋 Lab Information</span>  \n",
    "- **<span style=\"color: orange;\">Lab No.:</span>** `10`  \n",
    "- **<span style=\"color: orange;\">Lab Title:</span>** `Modules_and_Packages`  \n",
    "- **<span style=\"color: orange;\">Lab Date:</span>** `January 18, 2025`  \n",
    "\n",
    "---\n",
    "\n",
    "## <span style=\"font-family: 'Georgia', serif; color: green;\">🙋‍♂️ Submitted By</span>  \n",
    "- **<span style=\"color: orange;\">Name:</span>** `Shakir Ullah`  \n",
    "- **<span style=\"color: orange;\">Roll No.:</span>** `23JZELE0524`  \n",
    "- **<span style=\"color: orange;\">Section:</span>** `A`  \n",
    "\n",
    "---"
   ]
  },
  {
   "cell_type": "markdown",
   "metadata": {},
   "source": [
    "### **Creating Modules:**"
   ]
  },
  {
   "cell_type": "code",
   "execution_count": 46,
   "metadata": {},
   "outputs": [],
   "source": [
    "def add(x, y):\n",
    "    return x + y"
   ]
  },
  {
   "cell_type": "code",
   "execution_count": 47,
   "metadata": {},
   "outputs": [
    {
     "name": "stdout",
     "output_type": "stream",
     "text": [
      "4\n"
     ]
    }
   ],
   "source": [
    "import adder\n",
    "value = adder.add(2, 2)\n",
    "print(value)"
   ]
  },
  {
   "cell_type": "markdown",
   "metadata": {},
   "source": [
    "**2. Add another function to double a value:**"
   ]
  },
  {
   "cell_type": "code",
   "execution_count": 48,
   "metadata": {},
   "outputs": [],
   "source": [
    "def double(x):\n",
    "    return x + x"
   ]
  },
  {
   "cell_type": "code",
   "execution_count": 49,
   "metadata": {},
   "outputs": [
    {
     "name": "stdout",
     "output_type": "stream",
     "text": [
      "8\n"
     ]
    }
   ],
   "source": [
    "import adder\n",
    "value = adder.add(2, 2)\n",
    "double_value = double(value)\n",
    "print(double_value)\n"
   ]
  },
  {
   "cell_type": "markdown",
   "metadata": {},
   "source": [
    "**3. Using alias with as keyword:**"
   ]
  },
  {
   "cell_type": "code",
   "execution_count": 50,
   "metadata": {},
   "outputs": [
    {
     "name": "stdout",
     "output_type": "stream",
     "text": [
      "16\n"
     ]
    }
   ],
   "source": [
    "import adder as a\n",
    "value = a.add(4, 4)\n",
    "double_value = double(value)\n",
    "print(double_value)\n"
   ]
  },
  {
   "cell_type": "markdown",
   "metadata": {},
   "source": [
    "**4. Importing specific functions:**"
   ]
  },
  {
   "cell_type": "code",
   "execution_count": 51,
   "metadata": {},
   "outputs": [
    {
     "name": "stdout",
     "output_type": "stream",
     "text": [
      "4\n"
     ]
    }
   ],
   "source": [
    "from adder import add\n",
    "value = add(2, 2)\n",
    "print(value)\n"
   ]
  },
  {
   "cell_type": "code",
   "execution_count": 52,
   "metadata": {},
   "outputs": [
    {
     "name": "stdout",
     "output_type": "stream",
     "text": [
      "8\n"
     ]
    }
   ],
   "source": [
    "from adder import add\n",
    "\n",
    "value = add(2, 2)\n",
    "double_value = double(value)\n",
    "print(double_value)"
   ]
  },
  {
   "cell_type": "markdown",
   "metadata": {},
   "source": [
    "- Using multiple imports:"
   ]
  },
  {
   "cell_type": "code",
   "execution_count": 53,
   "metadata": {},
   "outputs": [
    {
     "name": "stdout",
     "output_type": "stream",
     "text": [
      "8\n"
     ]
    }
   ],
   "source": [
    "from adder import add, double\n",
    "value = add(2, 2)\n",
    "double_value = double(value)\n",
    "print(double_value)\n"
   ]
  },
  {
   "cell_type": "markdown",
   "metadata": {},
   "source": [
    "---"
   ]
  },
  {
   "cell_type": "markdown",
   "metadata": {},
   "source": [
    "### **Accessing Labs 7, 8, and 9 Using Modules and Packages**"
   ]
  },
  {
   "cell_type": "code",
   "execution_count": 54,
   "metadata": {},
   "outputs": [],
   "source": [
    "import os"
   ]
  },
  {
   "cell_type": "code",
   "execution_count": 55,
   "metadata": {},
   "outputs": [],
   "source": [
    "os.chdir(r\"E:\\Electrical Engineering\\3rd Semester\\Lab Report\\Lab 10_modules_and_packages\\mylabs\")"
   ]
  },
  {
   "cell_type": "code",
   "execution_count": 56,
   "metadata": {},
   "outputs": [
    {
     "data": {
      "text/plain": [
       "'E:\\\\Electrical Engineering\\\\3rd Semester\\\\Lab Report\\\\Lab 10_modules_and_packages\\\\mylabs'"
      ]
     },
     "execution_count": 56,
     "metadata": {},
     "output_type": "execute_result"
    }
   ],
   "source": [
    "os.getcwd()"
   ]
  },
  {
   "cell_type": "code",
   "execution_count": 57,
   "metadata": {},
   "outputs": [],
   "source": [
    "from Lab7 import Rectangle"
   ]
  },
  {
   "cell_type": "code",
   "execution_count": 58,
   "metadata": {},
   "outputs": [],
   "source": [
    "r = Rectangle(3, 4)"
   ]
  },
  {
   "cell_type": "code",
   "execution_count": 59,
   "metadata": {},
   "outputs": [
    {
     "data": {
      "text/plain": [
       "14"
      ]
     },
     "execution_count": 59,
     "metadata": {},
     "output_type": "execute_result"
    }
   ],
   "source": [
    "r.perimeter()"
   ]
  },
  {
   "cell_type": "code",
   "execution_count": 60,
   "metadata": {},
   "outputs": [],
   "source": [
    "from Lab7 import Square as sq"
   ]
  },
  {
   "cell_type": "code",
   "execution_count": 61,
   "metadata": {},
   "outputs": [],
   "source": [
    "s = sq(5)"
   ]
  },
  {
   "cell_type": "code",
   "execution_count": 62,
   "metadata": {},
   "outputs": [
    {
     "data": {
      "text/plain": [
       "20"
      ]
     },
     "execution_count": 62,
     "metadata": {},
     "output_type": "execute_result"
    }
   ],
   "source": [
    "s.perimeter()"
   ]
  },
  {
   "cell_type": "code",
   "execution_count": 63,
   "metadata": {},
   "outputs": [],
   "source": [
    "from Lab7 import Circle as c"
   ]
  },
  {
   "cell_type": "code",
   "execution_count": 64,
   "metadata": {},
   "outputs": [],
   "source": [
    "s = c(5)"
   ]
  },
  {
   "cell_type": "code",
   "execution_count": 65,
   "metadata": {},
   "outputs": [
    {
     "data": {
      "text/plain": [
       "78.53981633974483"
      ]
     },
     "execution_count": 65,
     "metadata": {},
     "output_type": "execute_result"
    }
   ],
   "source": [
    "s.Area()"
   ]
  },
  {
   "cell_type": "markdown",
   "metadata": {},
   "source": [
    "---"
   ]
  },
  {
   "cell_type": "code",
   "execution_count": 66,
   "metadata": {},
   "outputs": [],
   "source": [
    "from Lab8 import Rectangle, Square, Cube"
   ]
  },
  {
   "cell_type": "code",
   "execution_count": 67,
   "metadata": {},
   "outputs": [],
   "source": [
    "r1 = Rectangle(3, 4)"
   ]
  },
  {
   "cell_type": "code",
   "execution_count": 68,
   "metadata": {},
   "outputs": [
    {
     "data": {
      "text/plain": [
       "14"
      ]
     },
     "execution_count": 68,
     "metadata": {},
     "output_type": "execute_result"
    }
   ],
   "source": [
    "r1.perimeter()"
   ]
  },
  {
   "cell_type": "code",
   "execution_count": 69,
   "metadata": {},
   "outputs": [],
   "source": [
    "cube1 = Cube(3)"
   ]
  },
  {
   "cell_type": "code",
   "execution_count": 70,
   "metadata": {},
   "outputs": [
    {
     "data": {
      "text/plain": [
       "27"
      ]
     },
     "execution_count": 70,
     "metadata": {},
     "output_type": "execute_result"
    }
   ],
   "source": [
    "cube1.volume()"
   ]
  },
  {
   "cell_type": "code",
   "execution_count": 71,
   "metadata": {},
   "outputs": [
    {
     "data": {
      "text/plain": [
       "54"
      ]
     },
     "execution_count": 71,
     "metadata": {},
     "output_type": "execute_result"
    }
   ],
   "source": [
    "cube1.surface_area()"
   ]
  },
  {
   "cell_type": "code",
   "execution_count": 72,
   "metadata": {},
   "outputs": [],
   "source": [
    "from Lab8 import SalaryEmployee, HourlyEmployee, CommissionEmployee, Manager, Secretary, SalesPerson, FactoryWorker"
   ]
  },
  {
   "cell_type": "code",
   "execution_count": 73,
   "metadata": {},
   "outputs": [
    {
     "name": "stdout",
     "output_type": "stream",
     "text": [
      "=========================================\n",
      "ID: 1, Name: Nabeel Khan, Salary: 1200\n",
      "Salaried employee Nabeel Khan worked 40 hours.\n",
      "=========================================\n",
      "ID: 2, Name: Babar Azam, Salary: 600\n",
      "Hourly employee Babar Azam worked for 40 hours.\n",
      "=========================================\n",
      "ID: 3, Name: Sheraz, Salary: 1200\n",
      "Commission employee Sheraz made sales calls for 40 hours.\n",
      "=========================================\n",
      "ID: 4, Name: John Doe, Salary: 1500\n",
      "Manager John Doe is managing for 40 hours.\n",
      "=========================================\n",
      "ID: 5, Name: Jane Smith, Salary: 800\n",
      "Secretary Jane Smith is organizing paperwork for 40 hours.\n",
      "=========================================\n",
      "ID: 6, Name: Alex Brown, Salary: 1500\n",
      "Salesperson Alex Brown is making sales calls for 40 hours.\n",
      "=========================================\n",
      "ID: 7, Name: David Lee, Salary: 360\n",
      "Factory worker David Lee is manufacturing products for 40 hours.\n"
     ]
    }
   ],
   "source": [
    "salary_employee = SalaryEmployee(1, \"Nabeel Khan\", 1200)\n",
    "hourly_employee = HourlyEmployee(2, \"Babar Azam\", 40, 15)\n",
    "commission_employee = CommissionEmployee(3, \"Sheraz\", 1000, 200)\n",
    "manager = Manager(4, \"John Doe\", 1500)\n",
    "secretary = Secretary(5, \"Jane Smith\", 800)\n",
    "salesperson = SalesPerson(6, \"Alex Brown\", 1000, 500)\n",
    "factory_worker = FactoryWorker(7, \"David Lee\", 30, 12)\n",
    "\n",
    "emps = [salary_employee, hourly_employee, commission_employee, manager, secretary, salesperson, factory_worker]\n",
    "\n",
    "for employee in emps:\n",
    "    print(\"=========================================\")\n",
    "    print(f\"ID: {employee.id}, Name: {employee.name}, Salary: {employee.calculate_payroll()}\")\n",
    "    employee.work(40)"
   ]
  },
  {
   "cell_type": "markdown",
   "metadata": {},
   "source": [
    "---"
   ]
  },
  {
   "cell_type": "code",
   "execution_count": 74,
   "metadata": {},
   "outputs": [],
   "source": [
    "from Lab9 import *\n"
   ]
  },
  {
   "cell_type": "code",
   "execution_count": 75,
   "metadata": {},
   "outputs": [],
   "source": [
    "rec = Rectangle(3, 4)"
   ]
  },
  {
   "cell_type": "code",
   "execution_count": 76,
   "metadata": {},
   "outputs": [
    {
     "data": {
      "text/plain": [
       "12"
      ]
     },
     "execution_count": 76,
     "metadata": {},
     "output_type": "execute_result"
    }
   ],
   "source": [
    "rec.area()"
   ]
  },
  {
   "cell_type": "code",
   "execution_count": 77,
   "metadata": {},
   "outputs": [],
   "source": [
    "# objects of the classes\n",
    "rect = Rectangle(length=10, width=5)\n",
    "square = Square(length=4)\n",
    "triangle = Triangle(base=6, height=3)\n",
    "right_pyramid = RightPyramid(base=5, slant_height=10)"
   ]
  },
  {
   "cell_type": "code",
   "execution_count": 78,
   "metadata": {},
   "outputs": [
    {
     "name": "stdout",
     "output_type": "stream",
     "text": [
      "Rectangle Area: 50\n",
      "Rectangle Perimeter: 30\n",
      "Square Area: 16\n",
      "Square Perimeter: 16\n",
      "Triangle Area: 9.0\n",
      "RightPyramid Area: 25\n"
     ]
    }
   ],
   "source": [
    "# printing the areas and perimeters\n",
    "print(f\"Rectangle Area: {rect.area()}\")\n",
    "print(f\"Rectangle Perimeter: {rect.perimeter()}\")\n",
    "print(f\"Square Area: {square.area()}\")\n",
    "print(f\"Square Perimeter: {square.perimeter()}\")\n",
    "print(f\"Triangle Area: {triangle.tri_area()}\")\n",
    "print(f\"RightPyramid Area: {right_pyramid.area()}\")"
   ]
  },
  {
   "cell_type": "code",
   "execution_count": 79,
   "metadata": {},
   "outputs": [],
   "source": [
    "# List of objects\n",
    "employees = [\n",
    "    Professor(1, \"Dr Qaisar Ali\", \"Professor\", 8, 21, 300000, \"Electrical Machine\", \"Signal and System\", \"12 Years\", \"Multimedia\"),\n",
    "    Associate_Prof(2, \"Akhtar Nawaz\", \"Associate Professor\", 10, 20, 250000, \"Power Analysis\", \"Circuit Analysis\", \"15 Years\", \"White Board\"),\n",
    "    Assistant_Prof(3, \"Waqas Imtiaz\", \"Assistant Professor\", 12, 19, 200000, \"Electric Cars\", \"Circuit Analysis\", \"5 Years\", \"Projector\"),\n",
    "    Lecturer(4, \"Irshad Ullah Sir\", \"Lecturer\", 14, 18, 100000, \"Renewable Energy\", \"OPPs And Ds\", \"7 Years\", \"Projector\"),\n",
    "    Lab_Engr(5, \"Waqar Hussain\", \"Lab Engineer\", 18, 17, 150000, \"Instrumentation\", 60, \"Circuit-1\"),\n",
    "    Lab_Technician(6, \"Wajid Ali\", \"Lab Technician\", 16, 16, 100000, \"Electronics Lab\", 50, \"DLD\"),\n",
    "    Lab_Assistant(7, \"M.Haris\", \"Lab Assistant\", 15, 16, 70000, \"Power Engineering Lab\", 54, \"AutoCAD\"),\n",
    "    Lab_Attendant(8, \"Shahzaib Khan\", \"Lab Attendant\", 14, 15, 50000, \"Computer Lab\", 33),\n",
    "    Chairman(9, \"Amjad Ali\", \"Chairman\", 8, 20, 270000, \"AI\", \"Engineering Economics\", \"12-Years\", \"Multimedia\", \"Circuit-II\", 30)\n",
    "]"
   ]
  },
  {
   "cell_type": "code",
   "execution_count": 80,
   "metadata": {},
   "outputs": [
    {
     "name": "stdout",
     "output_type": "stream",
     "text": [
      "Employee ID: 1, Name: Dr Qaisar Ali, Position: Professor, Workload: 8-Hours, Scale: 21, Base Pay: 300000, Research: Electrical Machine, Subject: Signal and System, Experience: 12 Years years, Teach Mode: Multimedia\n",
      "Employee ID: 2, Name: Akhtar Nawaz, Position: Associate Professor, Workload: 10-Hours, Scale: 20, Base Pay: 250000, Research: Power Analysis, Subject: Circuit Analysis, Experience: 15 Years years, Teach Mode: White Board\n",
      "Employee ID: 3, Name: Waqas Imtiaz, Position: Assistant Professor, Workload: 12-Hours, Scale: 19, Base Pay: 200000, Research: Electric Cars, Subject: Circuit Analysis, Experience: 5 Years years, Teach Mode: Projector\n",
      "Employee ID: 4, Name: Irshad Ullah Sir, Position: Lecturer, Workload: 14-Hours, Scale: 18, Base Pay: 100000, Research: Renewable Energy, Subject: OPPs And Ds, Experience: 7 Years years, Teach Mode: Projector\n",
      "Employee ID: 5, Name: Waqar Hussain, Position: Lab Engineer, Workload: 18-Hours, Scale: 17, Base Pay: 150000, Lab Name: Instrumentation, Lab Capacity: 60, Lab Subject: Circuit-1\n",
      "Employee ID: 6, Name: Wajid Ali, Position: Lab Technician, Workload: 16-Hours, Scale: 16, Base Pay: 100000, Lab Name: Electronics Lab, Lab Capacity: 50, Basic Lab : DLD\n",
      "Employee ID: 7, Name: M.Haris, Position: Lab Assistant, Workload: 15-Hours, Scale: 16, Base Pay: 70000, Lab Name: Power Engineering Lab, Lab Capacity: 54, Equipment Handle: AutoCAD\n",
      "Employee ID: 8, Name: Shahzaib Khan, Position: Lab Attendant, Workload: 14-Hours, Scale: 15, Base Pay: 50000, Lab Name: Computer Lab, Lab Capacity: 33\n",
      "Employee ID: 9, Name: Amjad Ali, Position: Chairman, Workload: 8-Hours, Scale: 20, Base Pay: 270000, Lab Name: Circuit-II, Lab Capacity: 0, Lab Name: Circuit-II, Lab Capacity: 0\n"
     ]
    }
   ],
   "source": [
    "# Print all objects\n",
    "for employee in employees:\n",
    "    print(employee)"
   ]
  },
  {
   "cell_type": "markdown",
   "metadata": {},
   "source": [
    "---"
   ]
  }
 ],
 "metadata": {
  "kernelspec": {
   "display_name": "Python 3",
   "language": "python",
   "name": "python3"
  },
  "language_info": {
   "codemirror_mode": {
    "name": "ipython",
    "version": 3
   },
   "file_extension": ".py",
   "mimetype": "text/x-python",
   "name": "python",
   "nbconvert_exporter": "python",
   "pygments_lexer": "ipython3",
   "version": "3.12.8"
  }
 },
 "nbformat": 4,
 "nbformat_minor": 2
}
