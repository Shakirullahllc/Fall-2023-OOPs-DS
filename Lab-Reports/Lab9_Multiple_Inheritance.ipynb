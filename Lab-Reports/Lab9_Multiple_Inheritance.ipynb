{
 "cells": [
  {
   "cell_type": "markdown",
   "metadata": {},
   "source": [
    "<h1 style=\"font-family: 'Arial Black', Gadget, sans-serif; text-align: center; color: linear-gradient(to right, blue, purple);\">\n",
    "🎓 EE-271 OOP & Data Structures Lab Report\n",
    "</h1>\n",
    "\n",
    "---\n",
    "\n",
    "## <span style=\"font-family: 'Georgia', serif; color: green;\">📋 Lab Information</span>  \n",
    "- **<span style=\"color: orange;\">Lab No.:</span>** `9`  \n",
    "- **<span style=\"color: orange;\">Lab Title:</span>** `Multiple-Inheritance`  \n",
    "- **<span style=\"color: orange;\">Lab Date:</span>** `January 18, 2025`  \n",
    "\n",
    "---\n",
    "\n",
    "## <span style=\"font-family: 'Georgia', serif; color: green;\">🙋‍♂️ Submitted By</span>  \n",
    "- **<span style=\"color: orange;\">Name:</span>** `Shakir Ullah`  \n",
    "- **<span style=\"color: orange;\">Roll No.:</span>** `23JZELE0524`  \n",
    "- **<span style=\"color: orange;\">Section:</span>** `A`  \n",
    "\n",
    "---"
   ]
  },
  {
   "cell_type": "markdown",
   "metadata": {},
   "source": [
    "#### __Problem 1__\n",
    "#### Task:\n",
    "Temporary secretaries are sometimes hired when there’s too much paperwork to handle. The `TemporarySecretary` class should perform the role of a **Secretary** in the context of the `ProductivitySystem`, but for payroll purposes, it should be treated as an **HourlyEmployee**.\n",
    "\n",
    "#### Steps:\n",
    "1. Derive `TemporarySecretary` from both `Secretary` and `HourlyEmployee`.\n",
    "2. Modify the `TemporarySecretary` class to ensure it initializes correctly.\n",
    "3. Override the `calculate_payroll` method in the `TemporarySecretary` class to use the `HourlyEmployee` payroll calculation.\n",
    "4. Create an instance of `TemporarySecretary` and verify its attributes and methods.\n",
    "5. Integrate the `TemporarySecretary` instance into the `ProductivitySystem` and `PayrollSystem`."
   ]
  },
  {
   "cell_type": "code",
   "execution_count": 4,
   "metadata": {},
   "outputs": [],
   "source": [
    "class Employee:\n",
    "    def __init__(self, id, name):\n",
    "        self.id = id\n",
    "        self.name = name\n",
    "\n",
    "class SalaryEmployee(Employee):\n",
    "    def __init__(self, id, name, weekly_salary):\n",
    "        super().__init__(id, name)\n",
    "        self.weekly_salary = weekly_salary\n",
    "\n",
    "    def calculate_payroll(self):\n",
    "        return self.weekly_salary\n",
    "\n",
    "class HourlyEmployee(Employee):\n",
    "    def __init__(self, id, name, hours_worked, hourly_rate):\n",
    "        super().__init__(id, name)\n",
    "        self.hours_worked = hours_worked\n",
    "        self.hourly_rate = hourly_rate\n",
    "\n",
    "    def calculate_payroll(self):\n",
    "        return self.hours_worked * self.hourly_rate\n",
    "\n",
    "class CommissionEmployee(SalaryEmployee):\n",
    "    def __init__(self, id, name, weekly_salary, commission):\n",
    "        super().__init__(id, name, weekly_salary)\n",
    "        self.commission = commission\n",
    "\n",
    "    def calculate_payroll(self):\n",
    "        fixed = super().calculate_payroll()\n",
    "        return fixed + self.commission\n",
    "    \n",
    "class Manager(SalaryEmployee):\n",
    "    def work(self, hours):\n",
    "        print(f\"{self.name} screams and yells for {hours} hours.\")\n",
    "\n",
    "class Secretary(SalaryEmployee):\n",
    "    def work(self, hours):\n",
    "        print(f\"{self.name} expends {hours} hours doing office paperwork.\")\n",
    "\n",
    "class SalesPerson(CommissionEmployee):\n",
    "    def work(self, hours):\n",
    "        print(f\"{self.name} expends {hours} hours on the phone.\")\n",
    "\n",
    "class FactoryWorker(HourlyEmployee):\n",
    "    def work(self, hours):\n",
    "        print(f\"{self.name} manufactures gadgets for {hours} hours.\")"
   ]
  },
  {
   "cell_type": "markdown",
   "metadata": {},
   "source": [
    "1. **Derive `TemporarySecretary` from both `Secretary` and `HourlyEmployee`:**"
   ]
  },
  {
   "cell_type": "code",
   "execution_count": 5,
   "metadata": {},
   "outputs": [],
   "source": [
    "class TemporarySecretary(Secretary, HourlyEmployee):\n",
    "    pass"
   ]
  },
  {
   "cell_type": "markdown",
   "metadata": {},
   "source": [
    "- Run the code:"
   ]
  },
  {
   "cell_type": "code",
   "execution_count": 6,
   "metadata": {},
   "outputs": [
    {
     "ename": "TypeError",
     "evalue": "SalaryEmployee.__init__() takes 4 positional arguments but 5 were given",
     "output_type": "error",
     "traceback": [
      "\u001b[1;31m---------------------------------------------------------------------------\u001b[0m",
      "\u001b[1;31mTypeError\u001b[0m                                 Traceback (most recent call last)",
      "Cell \u001b[1;32mIn[6], line 1\u001b[0m\n\u001b[1;32m----> 1\u001b[0m temporary_secretary \u001b[38;5;241m=\u001b[39m \u001b[43mTemporarySecretary\u001b[49m\u001b[43m(\u001b[49m\u001b[38;5;241;43m5\u001b[39;49m\u001b[43m,\u001b[49m\u001b[43m \u001b[49m\u001b[38;5;124;43m\"\u001b[39;49m\u001b[38;5;124;43mRobin Williams\u001b[39;49m\u001b[38;5;124;43m\"\u001b[39;49m\u001b[43m,\u001b[49m\u001b[43m \u001b[49m\u001b[38;5;241;43m40\u001b[39;49m\u001b[43m,\u001b[49m\u001b[43m \u001b[49m\u001b[38;5;241;43m9\u001b[39;49m\u001b[43m)\u001b[49m\n",
      "\u001b[1;31mTypeError\u001b[0m: SalaryEmployee.__init__() takes 4 positional arguments but 5 were given"
     ]
    }
   ],
   "source": [
    "temporary_secretary = TemporarySecretary(5, \"Robin Williams\", 40, 9)"
   ]
  },
  {
   "cell_type": "code",
   "execution_count": 26,
   "metadata": {},
   "outputs": [
    {
     "name": "stdout",
     "output_type": "stream",
     "text": [
      "(<class '__main__.TemporarySecretary'>, <class '__main__.Secretary'>, <class '__main__.SalaryEmployee'>, <class '__main__.HourlyEmployee'>, <class '__main__.Employee'>, <class 'object'>)\n"
     ]
    }
   ],
   "source": [
    "print(TemporarySecretary.__mro__)"
   ]
  },
  {
   "cell_type": "markdown",
   "metadata": {},
   "source": [
    "2. **Modify the `TemporarySecretary` class as:**"
   ]
  },
  {
   "cell_type": "code",
   "execution_count": 27,
   "metadata": {},
   "outputs": [],
   "source": [
    "class TemporarySecretary(HourlyEmployee, Secretary):\n",
    "    pass"
   ]
  },
  {
   "cell_type": "markdown",
   "metadata": {},
   "source": [
    "- Run the code:"
   ]
  },
  {
   "cell_type": "code",
   "execution_count": 28,
   "metadata": {},
   "outputs": [
    {
     "ename": "TypeError",
     "evalue": "SalaryEmployee.__init__() missing 1 required positional argument: 'weekly_salary'",
     "output_type": "error",
     "traceback": [
      "\u001b[1;31m---------------------------------------------------------------------------\u001b[0m",
      "\u001b[1;31mTypeError\u001b[0m                                 Traceback (most recent call last)",
      "Cell \u001b[1;32mIn[28], line 1\u001b[0m\n\u001b[1;32m----> 1\u001b[0m temporary_secretary \u001b[38;5;241m=\u001b[39m \u001b[43mTemporarySecretary\u001b[49m\u001b[43m(\u001b[49m\u001b[38;5;241;43m5\u001b[39;49m\u001b[43m,\u001b[49m\u001b[43m \u001b[49m\u001b[38;5;124;43m\"\u001b[39;49m\u001b[38;5;124;43mRobin Williams\u001b[39;49m\u001b[38;5;124;43m\"\u001b[39;49m\u001b[43m,\u001b[49m\u001b[43m \u001b[49m\u001b[38;5;241;43m40\u001b[39;49m\u001b[43m,\u001b[49m\u001b[43m \u001b[49m\u001b[38;5;241;43m9\u001b[39;49m\u001b[43m)\u001b[49m\n",
      "Cell \u001b[1;32mIn[22], line 16\u001b[0m, in \u001b[0;36mHourlyEmployee.__init__\u001b[1;34m(self, id, name, hours_worked, hourly_rate)\u001b[0m\n\u001b[0;32m     15\u001b[0m \u001b[38;5;28;01mdef\u001b[39;00m \u001b[38;5;21m__init__\u001b[39m(\u001b[38;5;28mself\u001b[39m, \u001b[38;5;28mid\u001b[39m, name, hours_worked, hourly_rate):\n\u001b[1;32m---> 16\u001b[0m     \u001b[38;5;28;43msuper\u001b[39;49m\u001b[43m(\u001b[49m\u001b[43m)\u001b[49m\u001b[38;5;241;43m.\u001b[39;49m\u001b[38;5;21;43m__init__\u001b[39;49m\u001b[43m(\u001b[49m\u001b[38;5;28;43mid\u001b[39;49m\u001b[43m,\u001b[49m\u001b[43m \u001b[49m\u001b[43mname\u001b[49m\u001b[43m)\u001b[49m\n\u001b[0;32m     17\u001b[0m     \u001b[38;5;28mself\u001b[39m\u001b[38;5;241m.\u001b[39mhours_worked \u001b[38;5;241m=\u001b[39m hours_worked\n\u001b[0;32m     18\u001b[0m     \u001b[38;5;28mself\u001b[39m\u001b[38;5;241m.\u001b[39mhourly_rate \u001b[38;5;241m=\u001b[39m hourly_rate\n",
      "\u001b[1;31mTypeError\u001b[0m: SalaryEmployee.__init__() missing 1 required positional argument: 'weekly_salary'"
     ]
    }
   ],
   "source": [
    "temporary_secretary = TemporarySecretary(5, \"Robin Williams\", 40, 9)"
   ]
  },
  {
   "cell_type": "code",
   "execution_count": 29,
   "metadata": {},
   "outputs": [
    {
     "name": "stdout",
     "output_type": "stream",
     "text": [
      "(<class '__main__.TemporarySecretary'>, <class '__main__.HourlyEmployee'>, <class '__main__.Secretary'>, <class '__main__.SalaryEmployee'>, <class '__main__.Employee'>, <class 'object'>)\n"
     ]
    }
   ],
   "source": [
    "print(TemporarySecretary.__mro__)"
   ]
  },
  {
   "cell_type": "markdown",
   "metadata": {},
   "source": [
    "3. **Modify the `TemporarySecretary` class with an `__init__` method:**"
   ]
  },
  {
   "cell_type": "code",
   "execution_count": 31,
   "metadata": {},
   "outputs": [],
   "source": [
    "class TemporarySecretary(HourlyEmployee, Secretary):\n",
    "    def __init__(self, id, name, hours_worked, hourly_rate):\n",
    "        super().__init__(id, name, hours_worked, hourly_rate)"
   ]
  },
  {
   "cell_type": "markdown",
   "metadata": {},
   "source": [
    "- Run the code:"
   ]
  },
  {
   "cell_type": "code",
   "execution_count": null,
   "metadata": {},
   "outputs": [
    {
     "ename": "TypeError",
     "evalue": "SalaryEmployee.__init__() missing 1 required positional argument: 'weekly_salary'",
     "output_type": "error",
     "traceback": [
      "\u001b[1;31m---------------------------------------------------------------------------\u001b[0m",
      "\u001b[1;31mTypeError\u001b[0m                                 Traceback (most recent call last)",
      "Cell \u001b[1;32mIn[32], line 1\u001b[0m\n\u001b[1;32m----> 1\u001b[0m temporary_secretary \u001b[38;5;241m=\u001b[39m \u001b[43mTemporarySecretary\u001b[49m\u001b[43m(\u001b[49m\u001b[38;5;241;43m5\u001b[39;49m\u001b[43m,\u001b[49m\u001b[43m \u001b[49m\u001b[38;5;124;43m\"\u001b[39;49m\u001b[38;5;124;43mRobin Williams\u001b[39;49m\u001b[38;5;124;43m\"\u001b[39;49m\u001b[43m,\u001b[49m\u001b[43m \u001b[49m\u001b[38;5;241;43m40\u001b[39;49m\u001b[43m,\u001b[49m\u001b[43m \u001b[49m\u001b[38;5;241;43m9\u001b[39;49m\u001b[43m)\u001b[49m\n",
      "Cell \u001b[1;32mIn[31], line 3\u001b[0m, in \u001b[0;36mTemporarySecretary.__init__\u001b[1;34m(self, id, name, hours_worked, hourly_rate)\u001b[0m\n\u001b[0;32m      2\u001b[0m \u001b[38;5;28;01mdef\u001b[39;00m \u001b[38;5;21m__init__\u001b[39m(\u001b[38;5;28mself\u001b[39m, \u001b[38;5;28mid\u001b[39m, name, hours_worked, hourly_rate):\n\u001b[1;32m----> 3\u001b[0m     \u001b[38;5;28;43msuper\u001b[39;49m\u001b[43m(\u001b[49m\u001b[43m)\u001b[49m\u001b[38;5;241;43m.\u001b[39;49m\u001b[38;5;21;43m__init__\u001b[39;49m\u001b[43m(\u001b[49m\u001b[38;5;28;43mid\u001b[39;49m\u001b[43m,\u001b[49m\u001b[43m \u001b[49m\u001b[43mname\u001b[49m\u001b[43m,\u001b[49m\u001b[43m \u001b[49m\u001b[43mhours_worked\u001b[49m\u001b[43m,\u001b[49m\u001b[43m \u001b[49m\u001b[43mhourly_rate\u001b[49m\u001b[43m)\u001b[49m\n",
      "Cell \u001b[1;32mIn[22], line 16\u001b[0m, in \u001b[0;36mHourlyEmployee.__init__\u001b[1;34m(self, id, name, hours_worked, hourly_rate)\u001b[0m\n\u001b[0;32m     15\u001b[0m \u001b[38;5;28;01mdef\u001b[39;00m \u001b[38;5;21m__init__\u001b[39m(\u001b[38;5;28mself\u001b[39m, \u001b[38;5;28mid\u001b[39m, name, hours_worked, hourly_rate):\n\u001b[1;32m---> 16\u001b[0m     \u001b[38;5;28;43msuper\u001b[39;49m\u001b[43m(\u001b[49m\u001b[43m)\u001b[49m\u001b[38;5;241;43m.\u001b[39;49m\u001b[38;5;21;43m__init__\u001b[39;49m\u001b[43m(\u001b[49m\u001b[38;5;28;43mid\u001b[39;49m\u001b[43m,\u001b[49m\u001b[43m \u001b[49m\u001b[43mname\u001b[49m\u001b[43m)\u001b[49m\n\u001b[0;32m     17\u001b[0m     \u001b[38;5;28mself\u001b[39m\u001b[38;5;241m.\u001b[39mhours_worked \u001b[38;5;241m=\u001b[39m hours_worked\n\u001b[0;32m     18\u001b[0m     \u001b[38;5;28mself\u001b[39m\u001b[38;5;241m.\u001b[39mhourly_rate \u001b[38;5;241m=\u001b[39m hourly_rate\n",
      "\u001b[1;31mTypeError\u001b[0m: SalaryEmployee.__init__() missing 1 required positional argument: 'weekly_salary'"
     ]
    }
   ],
   "source": [
    "temporary_secretary = TemporarySecretary(5, \"Robin Williams\", 40, 9)"
   ]
  },
  {
   "cell_type": "code",
   "execution_count": 34,
   "metadata": {},
   "outputs": [
    {
     "data": {
      "text/plain": [
       "(__main__.TemporarySecretary,\n",
       " __main__.HourlyEmployee,\n",
       " __main__.Secretary,\n",
       " __main__.SalaryEmployee,\n",
       " __main__.Employee,\n",
       " object)"
      ]
     },
     "execution_count": 34,
     "metadata": {},
     "output_type": "execute_result"
    }
   ],
   "source": [
    "TemporarySecretary.__mro__"
   ]
  },
  {
   "cell_type": "markdown",
   "metadata": {},
   "source": [
    "4. **Modify the `TemporarySecretary` class using direct `HourlyEmployee` initialization:**"
   ]
  },
  {
   "cell_type": "code",
   "execution_count": 35,
   "metadata": {},
   "outputs": [],
   "source": [
    "class TemporarySecretary(Secretary, HourlyEmployee):\n",
    "    def __init__(self, id, name, hours_worked, hourly_rate):\n",
    "        HourlyEmployee.__init__(self, id, name, hours_worked, hourly_rate)"
   ]
  },
  {
   "cell_type": "markdown",
   "metadata": {},
   "source": [
    "- Run the code:"
   ]
  },
  {
   "cell_type": "code",
   "execution_count": 53,
   "metadata": {},
   "outputs": [
    {
     "ename": "TypeError",
     "evalue": "SalaryEmployee.__init__() takes 4 positional arguments but 5 were given",
     "output_type": "error",
     "traceback": [
      "\u001b[1;31m---------------------------------------------------------------------------\u001b[0m",
      "\u001b[1;31mTypeError\u001b[0m                                 Traceback (most recent call last)",
      "Cell \u001b[1;32mIn[53], line 1\u001b[0m\n\u001b[1;32m----> 1\u001b[0m temporary_secretary \u001b[38;5;241m=\u001b[39m \u001b[43mTemporarySecretary\u001b[49m\u001b[43m(\u001b[49m\u001b[38;5;241;43m5\u001b[39;49m\u001b[43m,\u001b[49m\u001b[43m \u001b[49m\u001b[38;5;124;43m\"\u001b[39;49m\u001b[38;5;124;43mRobin Williams\u001b[39;49m\u001b[38;5;124;43m\"\u001b[39;49m\u001b[43m,\u001b[49m\u001b[43m \u001b[49m\u001b[38;5;241;43m40\u001b[39;49m\u001b[43m,\u001b[49m\u001b[43m \u001b[49m\u001b[38;5;241;43m9\u001b[39;49m\u001b[43m)\u001b[49m\n\u001b[0;32m      2\u001b[0m company_employees \u001b[38;5;241m=\u001b[39m [temporary_secretary]\n\u001b[0;32m      3\u001b[0m productivity_system \u001b[38;5;241m=\u001b[39m productivity\u001b[38;5;241m.\u001b[39mProductivitySystem()\n",
      "\u001b[1;31mTypeError\u001b[0m: SalaryEmployee.__init__() takes 4 positional arguments but 5 were given"
     ]
    }
   ],
   "source": [
    "temporary_secretary = TemporarySecretary(5, \"Robin Williams\", 40, 9)\n",
    "company_employees = [temporary_secretary]\n",
    "productivity_system = productivity.ProductivitySystem()\n",
    "productivity_system.track(company_employees, 40)\n",
    "payroll_system = hr.PayrollSystem()\n",
    "payroll_system.calculate_payroll(company_employees)"
   ]
  },
  {
   "cell_type": "code",
   "execution_count": 18,
   "metadata": {},
   "outputs": [
    {
     "data": {
      "text/plain": [
       "(__main__.TemporarySecretary,\n",
       " __main__.Secretary,\n",
       " __main__.SalaryEmployee,\n",
       " __main__.HourlyEmployee,\n",
       " __main__.Employee,\n",
       " object)"
      ]
     },
     "execution_count": 18,
     "metadata": {},
     "output_type": "execute_result"
    }
   ],
   "source": [
    "TemporarySecretary.__mro__"
   ]
  },
  {
   "cell_type": "markdown",
   "metadata": {},
   "source": [
    "5. **Modify the `TemporarySecretary` class and override `calculate_payroll`:**"
   ]
  },
  {
   "cell_type": "code",
   "execution_count": 37,
   "metadata": {},
   "outputs": [],
   "source": [
    "class TemporarySecretary(Secretary, HourlyEmployee):\n",
    "    def __init__(self, id, name, hours_worked, hourly_rate):\n",
    "        HourlyEmployee.__init__(self, id, name, hours_worked, hourly_rate)\n",
    "\n",
    "    def calculate_payroll(self):\n",
    "        return HourlyEmployee.calculate_payroll(self)"
   ]
  },
  {
   "cell_type": "markdown",
   "metadata": {},
   "source": [
    "- Run the code:"
   ]
  },
  {
   "cell_type": "code",
   "execution_count": 54,
   "metadata": {},
   "outputs": [
    {
     "ename": "TypeError",
     "evalue": "SalaryEmployee.__init__() takes 4 positional arguments but 5 were given",
     "output_type": "error",
     "traceback": [
      "\u001b[1;31m---------------------------------------------------------------------------\u001b[0m",
      "\u001b[1;31mTypeError\u001b[0m                                 Traceback (most recent call last)",
      "Cell \u001b[1;32mIn[54], line 1\u001b[0m\n\u001b[1;32m----> 1\u001b[0m temporary_secretary \u001b[38;5;241m=\u001b[39m \u001b[43mTemporarySecretary\u001b[49m\u001b[43m(\u001b[49m\u001b[38;5;241;43m5\u001b[39;49m\u001b[43m,\u001b[49m\u001b[43m \u001b[49m\u001b[38;5;124;43m\"\u001b[39;49m\u001b[38;5;124;43mRobin Williams\u001b[39;49m\u001b[38;5;124;43m\"\u001b[39;49m\u001b[43m,\u001b[49m\u001b[43m \u001b[49m\u001b[38;5;241;43m40\u001b[39;49m\u001b[43m,\u001b[49m\u001b[43m \u001b[49m\u001b[38;5;241;43m9\u001b[39;49m\u001b[43m)\u001b[49m\n\u001b[0;32m      2\u001b[0m company_employees \u001b[38;5;241m=\u001b[39m [temporary_secretary]\n\u001b[0;32m      3\u001b[0m productivity_system \u001b[38;5;241m=\u001b[39m productivity\u001b[38;5;241m.\u001b[39mProductivitySystem()\n",
      "\u001b[1;31mTypeError\u001b[0m: SalaryEmployee.__init__() takes 4 positional arguments but 5 were given"
     ]
    }
   ],
   "source": [
    "temporary_secretary = TemporarySecretary(5, \"Robin Williams\", 40, 9)\n",
    "company_employees = [temporary_secretary]\n",
    "productivity_system = productivity.ProductivitySystem()\n",
    "productivity_system.track(company_employees, 40)\n",
    "payroll_system = hr.PayrollSystem()\n",
    "payroll_system.calculate_payroll(company_employee)"
   ]
  },
  {
   "cell_type": "code",
   "execution_count": 42,
   "metadata": {},
   "outputs": [
    {
     "data": {
      "text/plain": [
       "(__main__.TemporarySecretary,\n",
       " __main__.Secretary,\n",
       " __main__.SalaryEmployee,\n",
       " __main__.HourlyEmployee,\n",
       " __main__.Employee,\n",
       " object)"
      ]
     },
     "execution_count": 42,
     "metadata": {},
     "output_type": "execute_result"
    }
   ],
   "source": [
    "TemporarySecretary.__mro__"
   ]
  },
  {
   "cell_type": "code",
   "execution_count": 73,
   "metadata": {},
   "outputs": [],
   "source": [
    "class TemporarySecretary(Secretary, HourlyEmployee):\n",
    "    def __init__(self, id, name, hours_worked, hourly_rate):\n",
    "        HourlyEmployee.__init__(self, id, name, hours_worked, hourly_rate)\n",
    "\n",
    "    def calculate_payroll(self):\n",
    "        return HourlyEmployee.calculate_payroll(self)"
   ]
  },
  {
   "cell_type": "code",
   "execution_count": 74,
   "metadata": {},
   "outputs": [
    {
     "name": "stdout",
     "output_type": "stream",
     "text": [
      "ID: 5\n",
      "Name: Robin Williams\n",
      "Hours Worked: 40\n",
      "Hourly Rate: 9\n",
      "Payroll: 360\n"
     ]
    }
   ],
   "source": [
    "# Creating an object for the TemporarySecretary class\n",
    "temporary_secretary = TemporarySecretary(5, \"Robin Williams\", 40, 9)\n",
    "\n",
    "# Accessing attributes and methods\n",
    "print(f\"ID: {temporary_secretary.id}\")\n",
    "print(f\"Name: {temporary_secretary.name}\")\n",
    "print(f\"Hours Worked: {temporary_secretary.hours_worked}\")\n",
    "print(f\"Hourly Rate: {temporary_secretary.hourly_rate}\")\n",
    "\n",
    "# Calculating and printing the payroll\n",
    "print(f\"Payroll: {temporary_secretary.calculate_payroll()}\")\n"
   ]
  },
  {
   "cell_type": "markdown",
   "metadata": {},
   "source": [
    "----------------------------------------------------------------"
   ]
  },
  {
   "cell_type": "markdown",
   "metadata": {},
   "source": [
    "#### __Problem 2__\n",
    "#### ***Task:***\n",
    "***Understand the following code with the help of the concepts of multiple Inheritance in Python.***"
   ]
  },
  {
   "cell_type": "code",
   "execution_count": 87,
   "metadata": {},
   "outputs": [],
   "source": [
    "class Rectangle:\n",
    "    def __init__(self, length, width, **kwargs):\n",
    "        self.length = length\n",
    "        self.width = width\n",
    "        super().__init__(**kwargs)\n",
    "\n",
    "    def area(self):\n",
    "        return self.length * self.width\n",
    "\n",
    "    def perimeter(self):\n",
    "        return 2 * self.length + 2 * self.width\n",
    "\n",
    "class Square(Rectangle):\n",
    "    def __init__(self, length, **kwargs):\n",
    "        super().__init__(length=length, width=length, **kwargs)\n",
    "\n",
    "class Triangle:\n",
    "    def __init__(self, base, height, **kwargs):\n",
    "        self.base = base\n",
    "        self.height = height\n",
    "        super().__init__(**kwargs)\n",
    "\n",
    "    def tri_area(self):\n",
    "        return 0.5 * self.base * self.height\n",
    "\n",
    "class RightPyramid(Square, Triangle):\n",
    "    def __init__(self, base, slant_height, **kwargs):\n",
    "        self.base = base\n",
    "        self.slant_height = slant_height\n",
    "        kwargs[\"height\"] = slant_height\n",
    "        kwargs[\"length\"] = base\n",
    "        super().__init__(base=base, **kwargs)\n",
    "\n",
    "    def area(self):\n",
    "        base_area = super().area()\n",
    "        perimeter = super().perimeter()\n",
    "        return 0.5 * perimeter * self.slant_height + base_area\n",
    "\n",
    "    def area_2(self):\n",
    "        base_area = super().area()\n",
    "        triangle_area = super().tri_area()\n",
    "        return triangle_area * 4 + base_area\n",
    "\n",
    "class SurfaceAreaMixin:\n",
    "    def surface_area(self):\n",
    "        surface_area = 0\n",
    "        for surface in self.surfaces:\n",
    "            surface_area += surface.area(self)\n",
    "        return surface_area\n",
    "\n",
    "class Cube(Square, SurfaceAreaMixin):\n",
    "    def __init__(self, length):\n",
    "        super().__init__(length)\n",
    "        self.surfaces = [Square(length), Square(length), Square(length), Square(length), Square(length), Square(length)]\n",
    "\n",
    "class RightPyramid(Square, Triangle, SurfaceAreaMixin):\n",
    "    def __init__(self, base, slant_height):\n",
    "        self.base = base\n",
    "        self.slant_height = slant_height\n",
    "        self.height = slant_height\n",
    "        self.length = base\n",
    "        self.width = base\n",
    "        self.surfaces = [Square(base), Triangle(base, slant_height), Triangle(base, slant_height), Triangle(base, slant_height), Triangle(base, slant_height)]\n"
   ]
  },
  {
   "cell_type": "code",
   "execution_count": 93,
   "metadata": {},
   "outputs": [],
   "source": [
    "right_pyramid = RightPyramid(5, 10)"
   ]
  },
  {
   "cell_type": "code",
   "execution_count": 106,
   "metadata": {},
   "outputs": [
    {
     "data": {
      "text/plain": [
       "(__main__.RightPyramid,\n",
       " __main__.Square,\n",
       " __main__.Rectangle,\n",
       " __main__.Triangle,\n",
       " __main__.SurfaceAreaMixin,\n",
       " object)"
      ]
     },
     "execution_count": 106,
     "metadata": {},
     "output_type": "execute_result"
    }
   ],
   "source": [
    "RightPyramid.__mro__"
   ]
  },
  {
   "cell_type": "code",
   "execution_count": null,
   "metadata": {},
   "outputs": [],
   "source": [
    "# objects of the classes\n",
    "rect = Rectangle(length=10, width=5)\n",
    "square = Square(length=4)\n",
    "triangle = Triangle(base=6, height=3)\n",
    "right_pyramid = RightPyramid(base=5, slant_height=10)"
   ]
  },
  {
   "cell_type": "code",
   "execution_count": 105,
   "metadata": {},
   "outputs": [
    {
     "name": "stdout",
     "output_type": "stream",
     "text": [
      "Rectangle Area: 50\n",
      "Rectangle Perimeter: 30\n",
      "Square Area: 16\n",
      "Square Perimeter: 16\n",
      "Triangle Area: 9.0\n",
      "RightPyramid Area: 25\n"
     ]
    }
   ],
   "source": [
    "# printing the areas and perimeters\n",
    "print(f\"Rectangle Area: {rect.area()}\")\n",
    "print(f\"Rectangle Perimeter: {rect.perimeter()}\")\n",
    "print(f\"Square Area: {square.area()}\")\n",
    "print(f\"Square Perimeter: {square.perimeter()}\")\n",
    "print(f\"Triangle Area: {triangle.tri_area()}\")\n",
    "print(f\"RightPyramid Area: {right_pyramid.area()}\")"
   ]
  },
  {
   "cell_type": "markdown",
   "metadata": {},
   "source": [
    "---"
   ]
  },
  {
   "cell_type": "markdown",
   "metadata": {},
   "source": [
    "### ***Problem 3: Class Design for Employee Management***\n",
    "\n",
    "Design a class structure for employees in an Electrical Engineering Department with both **faculty** and **admin** staff.\n",
    "\n",
    "1. **Base Class**: Create a class `EEDJ_Employee` with the following attributes:\n",
    "   - `id`, `name`, `position`, `workload`, `scale`, `b_pay`.\n",
    "   - Implement a `__str__()` method to display employee details.\n",
    "\n",
    "2. **Faculty Class**: Create a `Faculty` class inheriting from `EEDJ_Employee` with additional attributes:\n",
    "   - `research`, `subject`, `experience`, `teach_mode`.\n",
    "   - Implement subclasses: `Professor`, `Associate_Prof`, `Assistant_Prof`, and `Lecturer`, each inheriting from `Faculty`.\n",
    "\n",
    "3. **Admin Class**: Create an `Admin` class inheriting from `EEDJ_Employee` with additional attributes:\n",
    "   - `lab_name`, `lab_capacity`.\n",
    "   - Implement subclasses: `Lab_Engr`, `Lab_Technician`, `Lab_Assistant`, `Lab_Attendant`.\n",
    "\n",
    "4. **Chairman Class**: Create a `Chairman` class inheriting from both `Faculty` and `Admin`, with attributes from both parent classes.\n",
    "\n",
    "5. **Example Usage**: Demonstrate creating instances of each role and print their details using `__str__()`.\n",
    "\n",
    "### Expected Output\n",
    "- For `Professor`:\n"
   ]
  },
  {
   "cell_type": "code",
   "execution_count": 110,
   "metadata": {},
   "outputs": [],
   "source": [
    "class EEDJ_Employee:\n",
    "    def __init__(self, id, name, position, workload, scale, b_pay):\n",
    "        self.id = id\n",
    "        self.name = name \n",
    "        self.position = position \n",
    "        self.workload = workload \n",
    "        self.scale = scale\n",
    "        self.b_pay = b_pay\n",
    "\n",
    "    def __str__(self):\n",
    "        return f\"Employee ID: {self.id}, Name: {self.name}, Position: {self.position}, Workload: {self.workload}-Hours, Scale: {self.scale}, Base Pay: {self.b_pay}\"\n",
    "\n",
    "#--------------------------------------------------------------------------------------------------------------------------------------------------------------------\n",
    "\n",
    "class Faculty(EEDJ_Employee):\n",
    "    def __init__(self, id, name, position, workload, scale, b_pay, research, subject, experiance, teach_mode):\n",
    "        super().__init__(id, name, position, workload, scale, b_pay)\n",
    "        self.research = research\n",
    "        self.subject = subject\n",
    "        self.experiance = experiance\n",
    "        self.teach_mode = teach_mode\n",
    "\n",
    "    def __str__(self):\n",
    "        return super().__str__() + f\", Research: {self.research}, Subject: {self.subject}, Experience: {self.experiance} years, Teach Mode: {self.teach_mode}\"\n",
    "\n",
    "class Professor(Faculty):\n",
    "    def __init__(self, id, name, position, workload, scale, b_pay, research, subject, experiance, teach_mode):\n",
    "        super().__init__(id, name, position, workload, scale, b_pay, research, subject, experiance, teach_mode)\n",
    "    \n",
    "    def __str__(self):\n",
    "        return super().__str__()\n",
    "\n",
    "class Associate_Prof(Faculty):\n",
    "    def __init__(self, id, name, position, workload, scale, b_pay, research, subject, experiance, teach_mode):\n",
    "        super().__init__(id, name, position, workload, scale, b_pay, research, subject, experiance, teach_mode)\n",
    "    \n",
    "    def __str__(self):\n",
    "        return super().__str__()\n",
    "\n",
    "class Assistant_Prof(Faculty):\n",
    "    def __init__(self, id, name, position, workload, scale, b_pay, research, subject, experiance, teach_mode):\n",
    "        super().__init__(id, name, position, workload, scale, b_pay, research, subject, experiance, teach_mode)\n",
    "    \n",
    "    def __str__(self):\n",
    "        return super().__str__()\n",
    "\n",
    "class Lecturer(Faculty):\n",
    "    def __init__(self, id, name, position, workload, scale, b_pay, research, subject, experiance, teach_mode):\n",
    "        super().__init__(id, name, position, workload, scale, b_pay, research, subject, experiance, teach_mode)\n",
    "    \n",
    "    def __str__(self):\n",
    "        return super().__str__()\n",
    "# ---------------------------------------------------------------------------------------------------------------------------------------------------------------\n",
    "\n",
    "class Admin(EEDJ_Employee):\n",
    "    def __init__(self, id, name, position, workload, scale, b_pay, lab_name=\"\", lab_capacity=0):\n",
    "        super().__init__(id, name, position, workload, scale, b_pay)\n",
    "        self.lab_name = lab_name\n",
    "        self.lab_capacity = lab_capacity\n",
    "\n",
    "    def __str__(self):\n",
    "        return super().__str__() + f\", Lab Name: {self.lab_name}, Lab Capacity: {self.lab_capacity}\"\n",
    "\n",
    "class Lab_Engr(Admin):\n",
    "    def __init__(self, id, name, position, workload, scale, b_pay, lab_name, lab_capacity,lab_subject):\n",
    "        super().__init__(id, name, position, workload, scale, b_pay, lab_name, lab_capacity)\n",
    "        self.lab_subject = lab_subject\n",
    "    \n",
    "    def __str__(self):\n",
    "        return super().__str__() + f\", Lab Subject: {self.lab_subject}\"\n",
    "\n",
    "class Lab_Technician(Admin):\n",
    "    def __init__(self, id, name, position, workload, scale, b_pay, lab_name, lab_capacity,basic_lab):\n",
    "        super().__init__(id, name, position, workload, scale, b_pay, lab_name, lab_capacity)\n",
    "        self.basic_lab = basic_lab\n",
    "        \n",
    "    def __str__(self):\n",
    "        return super().__str__() + f\", Basic Lab : {self.basic_lab}\"\n",
    "\n",
    "class Lab_Assistant(Admin):\n",
    "    def __init__(self, id, name, position, workload, scale, b_pay, lab_name, lab_capacity,equipment_handle):\n",
    "        super().__init__(id, name, position, workload, scale, b_pay, lab_name, lab_capacity)\n",
    "        self.equipment_handle = equipment_handle\n",
    "\n",
    "    def __str__(self):\n",
    "        return super().__str__() + f\", Equipment Handle: {self.equipment_handle}\"\n",
    "\n",
    "class Lab_Attendant(Admin):\n",
    "    def __init__(self, id, name, position, workload, scale, b_pay, lab_name, lab_capacity):\n",
    "        super().__init__(id, name, position, workload, scale, b_pay, lab_name, lab_capacity)\n",
    "\n",
    "    def __str__(self):\n",
    "        return super().__str__()\n",
    "    \n",
    "#-------------------------------------------------------------------------------------------------------------------------------------------------------------------------------\n",
    "class Chairman(Faculty, Admin):\n",
    "    def __init__(self, id, name, position, workload, scale, b_pay, research, subject, experiance, teach_mode, lab_name, lab_capacity=0):\n",
    "        Faculty.__init__(self, id, name, position, workload, scale, b_pay, research, subject, experiance, teach_mode)\n",
    "        Admin.__init__(self, id, name, position, workload, scale, b_pay, lab_name, lab_capacity=0)\n",
    "\n",
    "    def __str__(self):\n",
    "        return (super(Faculty, self).__str__() + f\", Lab Name: {self.lab_name}, Lab Capacity: {self.lab_capacity}\")"
   ]
  },
  {
   "cell_type": "code",
   "execution_count": 111,
   "metadata": {},
   "outputs": [],
   "source": [
    "# List of objects\n",
    "employees = [\n",
    "    Professor(1, \"Dr Qaisar Ali\", \"Professor\", 8, 21, 300000, \"Electrical Machine\", \"Signal and System\", \"12 Years\", \"Multimedia\"),\n",
    "    Associate_Prof(2, \"Akhtar Nawaz\", \"Associate Professor\", 10, 20, 250000, \"Power Analysis\", \"Circuit Analysis\", \"15 Years\", \"White Board\"),\n",
    "    Assistant_Prof(3, \"Waqas Imtiaz\", \"Assistant Professor\", 12, 19, 200000, \"Electric Cars\", \"Circuit Analysis\", \"5 Years\", \"Projector\"),\n",
    "    Lecturer(4, \"Irshad Ullah Sir\", \"Lecturer\", 14, 18, 100000, \"Renewable Energy\", \"OPPs And Ds\", \"7 Years\", \"Projector\"),\n",
    "    Lab_Engr(5, \"Waqar Hussain\", \"Lab Engineer\", 18, 17, 150000, \"Instrumentation\", 60, \"Circuit-1\"),\n",
    "    Lab_Technician(6, \"Wajid Ali\", \"Lab Technician\", 16, 16, 100000, \"Electronics Lab\", 50, \"DLD\"),\n",
    "    Lab_Assistant(7, \"M.Haris\", \"Lab Assistant\", 15, 16, 70000, \"Power Engineering Lab\", 54, \"AutoCAD\"),\n",
    "    Lab_Attendant(8, \"Shahzaib Khan\", \"Lab Attendant\", 14, 15, 50000, \"Computer Lab\", 33),\n",
    "    Chairman(9, \"Amjad Ali\", \"Chairman\", 8, 20, 270000, \"AI\", \"Engineering Economics\", \"12-Years\", \"Multimedia\", \"Circuit-II\", 30)\n",
    "]"
   ]
  },
  {
   "cell_type": "code",
   "execution_count": 112,
   "metadata": {},
   "outputs": [
    {
     "name": "stdout",
     "output_type": "stream",
     "text": [
      "Employee ID: 1, Name: Dr Qaisar Ali, Position: Professor, Workload: 8-Hours, Scale: 21, Base Pay: 300000, Research: Electrical Machine, Subject: Signal and System, Experience: 12 Years years, Teach Mode: Multimedia\n",
      "Employee ID: 2, Name: Akhtar Nawaz, Position: Associate Professor, Workload: 10-Hours, Scale: 20, Base Pay: 250000, Research: Power Analysis, Subject: Circuit Analysis, Experience: 15 Years years, Teach Mode: White Board\n",
      "Employee ID: 3, Name: Waqas Imtiaz, Position: Assistant Professor, Workload: 12-Hours, Scale: 19, Base Pay: 200000, Research: Electric Cars, Subject: Circuit Analysis, Experience: 5 Years years, Teach Mode: Projector\n",
      "Employee ID: 4, Name: Irshad Ullah Sir, Position: Lecturer, Workload: 14-Hours, Scale: 18, Base Pay: 100000, Research: Renewable Energy, Subject: OPPs And Ds, Experience: 7 Years years, Teach Mode: Projector\n",
      "Employee ID: 5, Name: Waqar Hussain, Position: Lab Engineer, Workload: 18-Hours, Scale: 17, Base Pay: 150000, Lab Name: Instrumentation, Lab Capacity: 60, Lab Subject: Circuit-1\n",
      "Employee ID: 6, Name: Wajid Ali, Position: Lab Technician, Workload: 16-Hours, Scale: 16, Base Pay: 100000, Lab Name: Electronics Lab, Lab Capacity: 50, Basic Lab : DLD\n",
      "Employee ID: 7, Name: M.Haris, Position: Lab Assistant, Workload: 15-Hours, Scale: 16, Base Pay: 70000, Lab Name: Power Engineering Lab, Lab Capacity: 54, Equipment Handle: AutoCAD\n",
      "Employee ID: 8, Name: Shahzaib Khan, Position: Lab Attendant, Workload: 14-Hours, Scale: 15, Base Pay: 50000, Lab Name: Computer Lab, Lab Capacity: 33\n",
      "Employee ID: 9, Name: Amjad Ali, Position: Chairman, Workload: 8-Hours, Scale: 20, Base Pay: 270000, Lab Name: Circuit-II, Lab Capacity: 0, Lab Name: Circuit-II, Lab Capacity: 0\n"
     ]
    }
   ],
   "source": [
    "# Print all objects\n",
    "for employee in employees:\n",
    "    print(employee)"
   ]
  },
  {
   "cell_type": "markdown",
   "metadata": {},
   "source": [
    "---"
   ]
  }
 ],
 "metadata": {
  "kernelspec": {
   "display_name": "Python 3",
   "language": "python",
   "name": "python3"
  },
  "language_info": {
   "codemirror_mode": {
    "name": "ipython",
    "version": 3
   },
   "file_extension": ".py",
   "mimetype": "text/x-python",
   "name": "python",
   "nbconvert_exporter": "python",
   "pygments_lexer": "ipython3",
   "version": "3.12.8"
  }
 },
 "nbformat": 4,
 "nbformat_minor": 2
}
