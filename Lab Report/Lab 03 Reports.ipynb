{
 "cells": [
  {
   "cell_type": "markdown",
   "metadata": {},
   "source": [
    "<h1 style=\"font-family:timesnewroman; color:blue;\n",
    "            font-size: 30px;\n",
    "            font-family: Cooper Black;\n",
    "            text-align:center;\n",
    "            font-weight: bold;\n",
    "            text-transform: uppercase;\n",
    "            text-shadow: 8px 8px 8px rgba(0.5, 0.5, 0.5, 0.5);\"><b>LAB 03 Report</b></h1>"
   ]
  },
  {
   "cell_type": "markdown",
   "metadata": {},
   "source": [
    "## Lab Report Work\n",
    "\n",
    "#### 1. Make a list that contains the student name, the last four digits of the registration number as an integer, the CGPA as a float, and a list that contains GPA of all semesters. **(Nested List)**"
   ]
  },
  {
   "cell_type": "code",
   "execution_count": 5,
   "metadata": {},
   "outputs": [],
   "source": [
    "Info=[\"Shakirullah\",524,3.2,[3.1,3.3]]"
   ]
  },
  {
   "cell_type": "code",
   "execution_count": 6,
   "metadata": {},
   "outputs": [
    {
     "name": "stdout",
     "output_type": "stream",
     "text": [
      "['Shakirullah', 524, 3.2, [3.1, 3.3]]\n",
      "524\n",
      "3.2\n",
      "[3.1, 3.3]\n",
      "3.1\n",
      "3.3\n"
     ]
    }
   ],
   "source": [
    "print(Info)\n",
    "print(Info[1])\n",
    "print(Info[2])\n",
    "print(Info[3])\n",
    "print(Info[3][0])\n",
    "print(Info[3][1])"
   ]
  },
  {
   "cell_type": "markdown",
   "metadata": {},
   "source": [
    "#### 2. Use list inducing in the following nested list and access each and every element.\n",
    "> x = [\"a\", [\"bb\", [\"ccc\", \"ddd\"], \"ee\", \"ff\"], \"g\", [\"hh\", \"ii\"], \"j\"]"
   ]
  },
  {
   "cell_type": "code",
   "execution_count": 7,
   "metadata": {},
   "outputs": [],
   "source": [
    "x = [\"a\", [\"bb\", [\"ccc\", \"ddd\"], \"ee\", \"ff\"], \"g\", [\"hh\", \"ii\"], \"j\"]"
   ]
  },
  {
   "cell_type": "code",
   "execution_count": 8,
   "metadata": {},
   "outputs": [
    {
     "name": "stdout",
     "output_type": "stream",
     "text": [
      "a\n",
      "['bb', ['ccc', 'ddd'], 'ee', 'ff']\n",
      "bb\n",
      "['ccc', 'ddd']\n",
      "ee\n",
      "ff\n",
      "g\n",
      "['hh', 'ii']\n",
      "hh\n",
      "ii\n",
      "j\n"
     ]
    }
   ],
   "source": [
    "# I access different value by its index\n",
    "print(x[0])\n",
    "print(x[1])\n",
    "print(x[1][0])\n",
    "print(x[1][1])\n",
    "print(x[1][2])\n",
    "print(x[1][3])\n",
    "print(x[2])\n",
    "print(x[3])\n",
    "print(x[3][0])\n",
    "print(x[3][1])\n",
    "print(x[4])"
   ]
  }
 ],
 "metadata": {
  "kernelspec": {
   "display_name": "Python 3",
   "language": "python",
   "name": "python3"
  },
  "language_info": {
   "codemirror_mode": {
    "name": "ipython",
    "version": 3
   },
   "file_extension": ".py",
   "mimetype": "text/x-python",
   "name": "python",
   "nbconvert_exporter": "python",
   "pygments_lexer": "ipython3",
   "version": "3.12.8"
  }
 },
 "nbformat": 4,
 "nbformat_minor": 2
}
