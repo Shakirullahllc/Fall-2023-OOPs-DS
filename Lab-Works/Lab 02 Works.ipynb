{
 "cells": [
  {
   "cell_type": "markdown",
   "metadata": {},
   "source": [
    "<h1 style=\"font-family: 'Segoe UI', sans-serif; text-align: center; color: #2C5F8A; margin-bottom: 20px; font-size: 28px;\">\n",
    "    🎓 EE-271 OOP & Data Structures Lab Report Works\n",
    "</h1>\n",
    "\n",
    "<hr style=\"border: 1.5px solid #4B4B4B; margin-bottom: 20px;\">\n",
    "\n",
    "<h2 style=\"font-family: 'Times New Roman', serif; color: #3A7D44; border-bottom: 2px solid #3A7D44; padding-bottom: 5px; font-size: 20px;\">\n",
    "    📋 Lab Information\n",
    "</h2>\n",
    "<ul style=\"font-family: 'Calibri', sans-serif; font-size: 16px; color: #2D2D2D; line-height: 1.6;\">\n",
    "    <li><b style=\"color: #5A5A5A;\">Lab No.:</b> <span style=\"color: #B03060; font-weight: bold;\">2</span></li>\n",
    "    <li><b style=\"color: #5A5A5A;\">Lab Title:</b> <span style=\"color: #B03060; font-weight: bold;\">Basic Python Data Types, Built-in Functions, and Function Design</span></li>\n",
    "    <li><b style=\"color: #5A5A5A;\">Lab Date:</b> <span style=\"color: #B03060; font-weight: bold;\">January 6, 2025</span></li>\n",
    "</ul>\n",
    "\n",
    "<hr style=\"border: 1.5px solid #4B4B4B; margin-bottom: 20px; margin-top: 20px;\">\n",
    "\n",
    "<h2 style=\"font-family: 'Times New Roman', serif; color: #3A7D44; border-bottom: 2px solid #3A7D44; padding-bottom: 5px; font-size: 20px;\">\n",
    "    🙋‍♂️ Submitted By\n",
    "</h2>\n",
    "<ul style=\"font-family: 'Calibri', sans-serif; font-size: 16px; color: #2D2D2D; line-height: 1.6;\">\n",
    "    <li><b style=\"color: #5A5A5A;\">Name:</b> <span style=\"color: #B03060; font-weight: bold;\">Shakir Ullah</span></li>\n",
    "    <li><b style=\"color: #5A5A5A;\">Roll No.:</b> <span style=\"color: #B03060; font-weight: bold;\">23JZELE0524</span></li>\n",
    "    <li><b style=\"color: #5A5A5A;\">Section:</b> <span style=\"color: #B03060; font-weight: bold;\">A</span></li>\n",
    "</ul>\n",
    "\n",
    "<hr style=\"border: 1.5px solid #4B4B4B; margin-top: 20px;\">"
   ]
  },
  {
   "cell_type": "markdown",
   "metadata": {},
   "source": [
    "<span style=\"color:red; font-size:25px;\">&#x2192;</span>   <span style=\"color:blue; font-size:25px;font-family:timesnewroman;\">String Formatting<span>"
   ]
  },
  {
   "cell_type": "markdown",
   "metadata": {},
   "source": [
    "**1. Observe the output of the following if:**"
   ]
  },
  {
   "cell_type": "code",
   "execution_count": 128,
   "metadata": {},
   "outputs": [],
   "source": [
    "errno = 50159747054\n",
    "name = 'Bob'"
   ]
  },
  {
   "cell_type": "code",
   "execution_count": 129,
   "metadata": {},
   "outputs": [
    {
     "name": "stdout",
     "output_type": "stream",
     "text": [
      "Hello, Bob\n"
     ]
    }
   ],
   "source": [
    "# a. Using % operator\n",
    "print('Hello, %s' % name)"
   ]
  },
  {
   "cell_type": "code",
   "execution_count": 130,
   "metadata": {},
   "outputs": [
    {
     "name": "stdout",
     "output_type": "stream",
     "text": [
      "Hey Bob, there is a 0xbadc0ffee error!\n"
     ]
    }
   ],
   "source": [
    "# b. Using % operator with multiple values\n",
    "print('Hey %s, there is a 0x%x error!' % (name, errno))"
   ]
  },
  {
   "cell_type": "markdown",
   "metadata": {},
   "source": [
    "**2. Observe the output of: (Mostly used).**"
   ]
  },
  {
   "cell_type": "code",
   "execution_count": 131,
   "metadata": {},
   "outputs": [
    {
     "name": "stdout",
     "output_type": "stream",
     "text": [
      "Hello, Bob\n"
     ]
    }
   ],
   "source": [
    "# a. Using format method\n",
    "print('Hello, {}'.format(name))"
   ]
  },
  {
   "cell_type": "markdown",
   "metadata": {},
   "source": [
    "**3. Observe the output of: (Recommended for Python 3.6+).**"
   ]
  },
  {
   "cell_type": "code",
   "execution_count": 132,
   "metadata": {},
   "outputs": [
    {
     "name": "stdout",
     "output_type": "stream",
     "text": [
      "Hello, Bob!\n"
     ]
    }
   ],
   "source": [
    "# a. Using f-strings\n",
    "print(f'Hello, {name}!')"
   ]
  },
  {
   "cell_type": "markdown",
   "metadata": {},
   "source": [
    "**4. Observe the output of:**"
   ]
  },
  {
   "cell_type": "code",
   "execution_count": 133,
   "metadata": {},
   "outputs": [
    {
     "name": "stdout",
     "output_type": "stream",
     "text": [
      "Hey, Bob!\n"
     ]
    }
   ],
   "source": [
    "from string import Template\n",
    "\n",
    "# a. Using Template for substitution\n",
    "t = Template('Hey, $name!')\n",
    "print(t.substitute(name=name))"
   ]
  },
  {
   "cell_type": "code",
   "execution_count": 134,
   "metadata": {},
   "outputs": [
    {
     "name": "stdout",
     "output_type": "stream",
     "text": [
      "Hey Bob, there is a 0xbadc0ffee error!\n"
     ]
    }
   ],
   "source": [
    "# b. Template with more placeholders\n",
    "templ_string = 'Hey $name, there is a $error error!'\n",
    "print(Template(templ_string).substitute(name=name, error=hex(errno)))"
   ]
  },
  {
   "cell_type": "markdown",
   "metadata": {},
   "source": [
    "#### **Built-in Function:**\n",
    "***i. Use len() and find the length of three lists and two strings.***\n"
   ]
  },
  {
   "cell_type": "code",
   "execution_count": 135,
   "metadata": {},
   "outputs": [],
   "source": [
    "# Lists and strings for testing len()\n",
    "list1 = [1, 2, 3]\n",
    "list2 = ['apple', 'banana', 'cherry']\n",
    "list3 = [1, 'two', 3.0]\n",
    "string1 = \"Hello\"\n",
    "string2 = \"Python\""
   ]
  },
  {
   "cell_type": "code",
   "execution_count": 136,
   "metadata": {},
   "outputs": [
    {
     "name": "stdout",
     "output_type": "stream",
     "text": [
      "3\n",
      "3\n",
      "3\n",
      "5\n",
      "6\n"
     ]
    }
   ],
   "source": [
    "# Using len() to find the length\n",
    "print(len(list1)) \n",
    "print(len(list2)) \n",
    "print(len(list3)) \n",
    "print(len(string1)) \n",
    "print(len(string2)) "
   ]
  },
  {
   "cell_type": "markdown",
   "metadata": {},
   "source": [
    "***ii. Use for three example .is_integer().***"
   ]
  },
  {
   "cell_type": "code",
   "execution_count": 137,
   "metadata": {},
   "outputs": [
    {
     "name": "stdout",
     "output_type": "stream",
     "text": [
      "True\n",
      "False\n",
      "True\n"
     ]
    }
   ],
   "source": [
    "print(10.0.is_integer())\n",
    "print(3.14.is_integer()) \n",
    "print(100.0.is_integer())"
   ]
  },
  {
   "cell_type": "markdown",
   "metadata": {},
   "source": [
    "***iii. Use for three example .conjugate().***"
   ]
  },
  {
   "cell_type": "code",
   "execution_count": 138,
   "metadata": {},
   "outputs": [],
   "source": [
    "# Example of .conjugate()\n",
    "complex_num1 = 3 + 4j\n",
    "complex_num2 = 1 - 2j\n",
    "complex_num3 = 5 + 0j"
   ]
  },
  {
   "cell_type": "code",
   "execution_count": 139,
   "metadata": {},
   "outputs": [
    {
     "name": "stdout",
     "output_type": "stream",
     "text": [
      "(3-4j)\n",
      "(1+2j)\n",
      "(5-0j)\n"
     ]
    }
   ],
   "source": [
    "print(complex_num1.conjugate()) \n",
    "print(complex_num2.conjugate()) \n",
    "print(complex_num3.conjugate())"
   ]
  },
  {
   "cell_type": "markdown",
   "metadata": {},
   "source": [
    "### **Function:**\n",
    "#### **TASK (I).**\n",
    "***i. Define a function that will take the name and registration number of a student and print it.\n",
    "Include appropriate docstrings.***"
   ]
  },
  {
   "cell_type": "code",
   "execution_count": 140,
   "metadata": {},
   "outputs": [],
   "source": [
    "def student_details(name: str = \"Shakir Ullah\", reg_no: str = \"0524\") -> None:\n",
    "    \"\"\"\n",
    "    Prints the student's name and registration number.\n",
    "\n",
    "    Args:\n",
    "        name (str): Student's name. Defaults to \"Shakir Ullah\".\n",
    "        reg_no (str): Student's registration number. Defaults to \"0524\".\n",
    "\n",
    "    Returns:\n",
    "        None\n",
    "    \"\"\"\n",
    "    print(f\"Student Name: {name}\\nRegistration Number: {reg_no}\")\n"
   ]
  },
  {
   "cell_type": "markdown",
   "metadata": {},
   "source": [
    "***a. The argument pass will like positional arguments.***"
   ]
  },
  {
   "cell_type": "code",
   "execution_count": 141,
   "metadata": {},
   "outputs": [
    {
     "name": "stdout",
     "output_type": "stream",
     "text": [
      "Student Name: Ali Khan\n",
      "Registration Number: 67890\n"
     ]
    }
   ],
   "source": [
    "student_details(\"Ali Khan\", \"67890\")"
   ]
  },
  {
   "cell_type": "markdown",
   "metadata": {},
   "source": [
    "***b. The arguments passing will like keyword arguments.***"
   ]
  },
  {
   "cell_type": "code",
   "execution_count": 142,
   "metadata": {},
   "outputs": [
    {
     "name": "stdout",
     "output_type": "stream",
     "text": [
      "Student Name: Ahmed\n",
      "Registration Number: 54321\n"
     ]
    }
   ],
   "source": [
    "student_details(name=\"Ahmed\", reg_no=\"54321\")"
   ]
  },
  {
   "cell_type": "markdown",
   "metadata": {},
   "source": [
    "***c. The arguments passing will like default arguments.***"
   ]
  },
  {
   "cell_type": "code",
   "execution_count": 143,
   "metadata": {},
   "outputs": [
    {
     "name": "stdout",
     "output_type": "stream",
     "text": [
      "Student Name: Shakir Ullah\n",
      "Registration Number: 0524\n"
     ]
    }
   ],
   "source": [
    "student_details()"
   ]
  },
  {
   "cell_type": "markdown",
   "metadata": {},
   "source": [
    "***d. Pass the arguments of one style to the other.***"
   ]
  },
  {
   "cell_type": "code",
   "execution_count": 144,
   "metadata": {},
   "outputs": [
    {
     "name": "stdout",
     "output_type": "stream",
     "text": [
      "Student Name: Ali\n",
      "Registration Number: 98765\n"
     ]
    }
   ],
   "source": [
    "student_details(\"Ali\", reg_no=\"98765\")"
   ]
  },
  {
   "cell_type": "markdown",
   "metadata": {},
   "source": [
    "***e. Passing less number of arguments and check the error message.***"
   ]
  },
  {
   "cell_type": "code",
   "execution_count": 145,
   "metadata": {},
   "outputs": [
    {
     "ename": "SyntaxError",
     "evalue": "positional argument follows keyword argument (162846127.py, line 1)",
     "output_type": "error",
     "traceback": [
      "\u001b[1;36m  Cell \u001b[1;32mIn[145], line 1\u001b[1;36m\u001b[0m\n\u001b[1;33m    student_details(reg_no=\"22\", \"Star\")\u001b[0m\n\u001b[1;37m                                       ^\u001b[0m\n\u001b[1;31mSyntaxError\u001b[0m\u001b[1;31m:\u001b[0m positional argument follows keyword argument\n"
     ]
    }
   ],
   "source": [
    "student_details(reg_no=\"22\", \"Star\")"
   ]
  },
  {
   "cell_type": "markdown",
   "metadata": {},
   "source": [
    "***f. Verify that whether positional argument follows keyword argument.***"
   ]
  },
  {
   "cell_type": "code",
   "execution_count": 92,
   "metadata": {},
   "outputs": [
    {
     "name": "stdout",
     "output_type": "stream",
     "text": [
      "Student Name: Ahmed\n",
      "Registration Number: 112233\n"
     ]
    }
   ],
   "source": [
    "student_details(\"Ahmed\", reg_no=\"11\")"
   ]
  },
  {
   "cell_type": "markdown",
   "metadata": {},
   "source": [
    "#### **TASK (II).**\n",
    "\n",
    "***i. Define a function that will take the parameters as current and resistance and will output the\n",
    "voltage across the resistance.***"
   ]
  },
  {
   "cell_type": "code",
   "execution_count": 42,
   "metadata": {},
   "outputs": [],
   "source": [
    "def calculate_voltage(I: float, R: float) -> None:\n",
    "    \"\"\"\n",
    "    Calculate and display the voltage across a resistor.\n",
    "\n",
    "    Args:\n",
    "        I (float): The current flowing through the resistor in amperes (A).\n",
    "        R (float): The resistance of the resistor in ohms (Ω).\n",
    "\n",
    "    Returns:\n",
    "        None: Prints the calculated voltage to the console.\n",
    "\n",
    "    Example:\n",
    "        >>> calculate_voltage(2.0, 5.0)\n",
    "        Current = 2.0 A \n",
    "        Resistance = 5.0 Ohms \n",
    "        So the Voltage across the resistor will be = 10.0 V\n",
    "    \"\"\"\n",
    "    print(f\"Current = {I} A \\nResistance = {R} Ohms \\nSo the Voltage across the resistor will be = {I * R} V\")"
   ]
  },
  {
   "cell_type": "markdown",
   "metadata": {},
   "source": [
    "**a. The argument pass will like positional arguments.**"
   ]
  },
  {
   "cell_type": "code",
   "execution_count": 43,
   "metadata": {},
   "outputs": [
    {
     "name": "stdout",
     "output_type": "stream",
     "text": [
      "Current = 3.3 A \n",
      "Resistance = 10 Ohms \n",
      "So the Voltage across the resistor will be = 33.0 V\n"
     ]
    }
   ],
   "source": [
    "# Positional Arguments\n",
    "calculate_voltage(3.3,10)"
   ]
  },
  {
   "cell_type": "markdown",
   "metadata": {},
   "source": [
    "**b. The arguments passing will like keyword arguments.**"
   ]
  },
  {
   "cell_type": "code",
   "execution_count": 44,
   "metadata": {},
   "outputs": [
    {
     "name": "stdout",
     "output_type": "stream",
     "text": [
      "Current = 5 A \n",
      "Resistance = 9 Ohms \n",
      "So the Voltage across the resistor will be = 45 V\n"
     ]
    }
   ],
   "source": [
    "# Using keyword arguments\n",
    "calculate_voltage(I=5, R=9)"
   ]
  },
  {
   "cell_type": "markdown",
   "metadata": {},
   "source": [
    "**c. The arguments passing will like default arguments.**"
   ]
  },
  {
   "cell_type": "code",
   "execution_count": 45,
   "metadata": {},
   "outputs": [],
   "source": [
    "# Default Arguments\n",
    "def calculate_voltage(I=1, R=1):\n",
    "    print(f\"Current = {I} A \\nResistance = {R} Ohms \\nSo the Voltage across the resistor will be = {I * R} V\")"
   ]
  },
  {
   "cell_type": "code",
   "execution_count": null,
   "metadata": {},
   "outputs": [
    {
     "name": "stdout",
     "output_type": "stream",
     "text": [
      "Current = 1 A \n",
      "Resistance = 1 Ohms \n",
      "So the Voltage across the resistor will be = 1 V\n"
     ]
    }
   ],
   "source": [
    "# Using default arguments\n",
    "calculate_voltage()"
   ]
  },
  {
   "cell_type": "code",
   "execution_count": 47,
   "metadata": {},
   "outputs": [
    {
     "name": "stdout",
     "output_type": "stream",
     "text": [
      "Current = 9 A \n",
      "Resistance = 1 Ohms \n",
      "So the Voltage across the resistor will be = 9 V\n"
     ]
    }
   ],
   "source": [
    "# Overwrite default values\n",
    "calculate_voltage(I=9)"
   ]
  },
  {
   "cell_type": "code",
   "execution_count": 48,
   "metadata": {},
   "outputs": [
    {
     "name": "stdout",
     "output_type": "stream",
     "text": [
      "Current = 3 A \n",
      "Resistance = 5 Ohms \n",
      "So the Voltage across the resistor will be = 15 V\n"
     ]
    }
   ],
   "source": [
    "# You can passed both arguments\n",
    "calculate_voltage(I=3,R=5)"
   ]
  },
  {
   "cell_type": "markdown",
   "metadata": {},
   "source": [
    "**d. Pass the arguments of one style to the other.**"
   ]
  },
  {
   "cell_type": "code",
   "execution_count": 49,
   "metadata": {},
   "outputs": [
    {
     "name": "stdout",
     "output_type": "stream",
     "text": [
      "Current = 4 A \n",
      "Resistance = 10 Ohms \n",
      "So the Voltage across the resistor will be = 40 V\n",
      "Current = 4 A \n",
      "Resistance = 15 Ohms \n",
      "So the Voltage across the resistor will be = 60 V\n"
     ]
    }
   ],
   "source": [
    "# Positional arguments:\n",
    "calculate_voltage(4, 10)\n",
    "\n",
    "# Mixing positional and keyword:\n",
    "calculate_voltage(4, R=15)"
   ]
  },
  {
   "cell_type": "markdown",
   "metadata": {},
   "source": [
    "**e. Passing less number of arguments and check the error message.**"
   ]
  },
  {
   "cell_type": "code",
   "execution_count": 50,
   "metadata": {},
   "outputs": [
    {
     "name": "stdout",
     "output_type": "stream",
     "text": [
      "Current = 5 A \n",
      "Resistance = 1 Ohms \n",
      "So the Voltage across the resistor will be = 5 V\n",
      "Current = 7 A \n",
      "Resistance = 1 Ohms \n",
      "So the Voltage across the resistor will be = 7 V\n"
     ]
    }
   ],
   "source": [
    "# Passing only one argument (positional)\n",
    "try:\n",
    "    calculate_voltage(5)\n",
    "except TypeError as e:\n",
    "    print(e)\n",
    "\n",
    "# Passing only one argument (keyword)\n",
    "try:\n",
    "    calculate_voltage(I=7)\n",
    "except TypeError as e:\n",
    "    print(e)"
   ]
  },
  {
   "cell_type": "markdown",
   "metadata": {},
   "source": [
    "**f. Verify that whether positional argument follows keyword argument.**"
   ]
  },
  {
   "cell_type": "code",
   "execution_count": 51,
   "metadata": {},
   "outputs": [
    {
     "name": "stdout",
     "output_type": "stream",
     "text": [
      "Current = 5 A \n",
      "Resistance = 10 Ohms \n",
      "So the Voltage across the resistor will be = 50 V\n"
     ]
    }
   ],
   "source": [
    "# Verifying Positional Argument Follows Keyword Argument\n",
    "# This will raise a SyntaxError\n",
    "try:\n",
    "    calculate_voltage(I=5, R=10)\n",
    "except SyntaxError as e:\n",
    "    print(f\"Error: {e}\")"
   ]
  },
  {
   "cell_type": "markdown",
   "metadata": {},
   "source": [
    "### **TASK (III).**\n",
    "***Define a function with name charge_from_solar and pass the state of charge (SOC) to the function. If SOC is less than 20% display charging if it is above 90% do nothing and return and if it is in between display that battery will be charge and there is --- % of charge in the battery. Include appropriate docstrings. Print the doc string. Also add annotation to the function parameters and return type.***"
   ]
  },
  {
   "cell_type": "code",
   "execution_count": 52,
   "metadata": {},
   "outputs": [
    {
     "name": "stdout",
     "output_type": "stream",
     "text": [
      "None\n",
      "{'SOC': <class 'float'>, 'return': None}\n"
     ]
    }
   ],
   "source": [
    "def charge_from_solar(SOC: float) -> None:\n",
    "    if SOC < 20:\n",
    "        return \"Charging...\"\n",
    "    elif SOC > 90:\n",
    "        return \"Battery is fully charged.\"\n",
    "    else:\n",
    "        return f\"Battery will charge, {SOC}%.\"\n",
    "\n",
    "print(charge_from_solar.__doc__)\n",
    "print(charge_from_solar.__annotations__)\n"
   ]
  },
  {
   "cell_type": "code",
   "execution_count": 53,
   "metadata": {},
   "outputs": [
    {
     "data": {
      "text/plain": [
       "'Charging...'"
      ]
     },
     "execution_count": 53,
     "metadata": {},
     "output_type": "execute_result"
    }
   ],
   "source": [
    "charge_from_solar(15)"
   ]
  },
  {
   "cell_type": "code",
   "execution_count": 54,
   "metadata": {},
   "outputs": [
    {
     "data": {
      "text/plain": [
       "'Battery will charge, 75%.'"
      ]
     },
     "execution_count": 54,
     "metadata": {},
     "output_type": "execute_result"
    }
   ],
   "source": [
    "charge_from_solar(75)"
   ]
  },
  {
   "cell_type": "code",
   "execution_count": 55,
   "metadata": {},
   "outputs": [
    {
     "data": {
      "text/plain": [
       "'Battery is fully charged.'"
      ]
     },
     "execution_count": 55,
     "metadata": {},
     "output_type": "execute_result"
    }
   ],
   "source": [
    "charge_from_solar(96)"
   ]
  },
  {
   "cell_type": "markdown",
   "metadata": {},
   "source": [
    "#### **TASK (IV).**\n",
    "***iv. Define three function. Function one name is resistance which will return a list of five resistances.\n",
    "The second function name is voltage which will return a list of voltage across each of these\n",
    "resisters. Include appropriate docstrings. Print the doc string. Also add annotation to the function\n",
    "parameters and return type.***\n",
    "- **a. Pass these two lists to a third function name current which will calculate the current flowing through each resister and will return that list to the main program. The main program will print all the three lists in well formatting.**\n",
    "- **b. In part a return the data in tuple.**\n",
    "- **c. Return the data from current function as dictionary with keys current_1 to current_5.**"
   ]
  },
  {
   "cell_type": "code",
   "execution_count": 56,
   "metadata": {},
   "outputs": [],
   "source": [
    "def resistance() -> list:\n",
    "    \"\"\"\n",
    "    Returns a list of five resistances.\n",
    "    \"\"\"\n",
    "    return [20, 32, 24, 40, 80]\n",
    "\n",
    "def voltage() -> list:\n",
    "    \"\"\"\n",
    "    Returns a list of voltages across each resistor.\n",
    "    \"\"\"\n",
    "    return [100, 240, 360, 410, 500]\n",
    "\n",
    "def current(resistances: list, voltages: list) -> list:\n",
    "    \"\"\"\n",
    "    Calculates the current flowing through each resistor.\n",
    "    Args:\n",
    "        resistances (list): List of resistances.\n",
    "        voltages (list): List of voltages.\n",
    "    Returns:\n",
    "        list: List of currents for each resistor.\n",
    "    \"\"\"\n",
    "    currents = [voltages[i]/resistances[i] for i in range(5)]\n",
    "    return currents"
   ]
  },
  {
   "cell_type": "code",
   "execution_count": null,
   "metadata": {},
   "outputs": [
    {
     "name": "stdout",
     "output_type": "stream",
     "text": [
      "Resistances: [20, 32, 24, 40, 80]\n",
      "Voltages: [100, 240, 360, 410, 500]\n",
      "Currents: [5.0, 7.5, 15.0, 10.25, 6.25]\n"
     ]
    }
   ],
   "source": [
    "# Main program to print all three lists\n",
    "resistances = resistance()\n",
    "voltages = voltage()\n",
    "currents = current(resistances, voltages)\n",
    "\n",
    "print(f\"Resistances: {resistances}\")\n",
    "print(f\"Voltages: {voltages}\")\n",
    "print(f\"Currents: {currents}\")\n"
   ]
  },
  {
   "cell_type": "code",
   "execution_count": 58,
   "metadata": {},
   "outputs": [
    {
     "name": "stdout",
     "output_type": "stream",
     "text": [
      "{'return': <class 'list'>}\n",
      "{'return': <class 'list'>}\n",
      "{'resistances': <class 'list'>, 'voltages': <class 'list'>, 'return': <class 'list'>}\n"
     ]
    }
   ],
   "source": [
    "print(resistance.__annotations__)\n",
    "print(voltage.__annotations__)\n",
    "print(current.__annotations__)"
   ]
  },
  {
   "cell_type": "code",
   "execution_count": 59,
   "metadata": {},
   "outputs": [
    {
     "name": "stdout",
     "output_type": "stream",
     "text": [
      "\n",
      "    Returns a list of five resistances.\n",
      "    \n",
      "\n",
      "    Returns a list of voltages across each resistor.\n",
      "    \n",
      "\n",
      "    Calculates the current flowing through each resistor.\n",
      "    Args:\n",
      "        resistances (list): List of resistances.\n",
      "        voltages (list): List of voltages.\n",
      "    Returns:\n",
      "        list: List of currents for each resistor.\n",
      "    \n"
     ]
    }
   ],
   "source": [
    "print(resistance.__doc__)\n",
    "print(voltage.__doc__)\n",
    "print(current.__doc__)"
   ]
  },
  {
   "cell_type": "markdown",
   "metadata": {},
   "source": [
    "#### **TASK (V).**\n",
    "***Define a function with name series. The function will take a list or tuple of resisters. The function \n",
    "will return the net resistance. Note that your function must be capable for any number of \n",
    "resisters. Note: Use elegant approach. Include appropriate docstrings. Print the doc string. Also \n",
    "add annotation to the function parameters and return type. In addition, display annotation using\n",
    "special dunder attribute of the function called __annotations__.***"
   ]
  },
  {
   "cell_type": "code",
   "execution_count": 60,
   "metadata": {},
   "outputs": [],
   "source": [
    "def series(resistors: list | tuple) -> float:\n",
    "    \"\"\"\n",
    "    Calculate the net resistance of resistors connected in series.\n",
    "\n",
    "    Args:\n",
    "        resistors (list[float] | tuple[float]): A list or tuple of resistor values in ohms.\n",
    "\n",
    "    Returns:\n",
    "        float: The total resistance in ohms of the resistors connected in series.\n",
    "    \"\"\"\n",
    "    return sum(resistors)"
   ]
  },
  {
   "cell_type": "code",
   "execution_count": 61,
   "metadata": {},
   "outputs": [
    {
     "name": "stdout",
     "output_type": "stream",
     "text": [
      "\n",
      "    Calculate the net resistance of resistors connected in series.\n",
      "\n",
      "    Args:\n",
      "        resistors (list[float] | tuple[float]): A list or tuple of resistor values in ohms.\n",
      "\n",
      "    Returns:\n",
      "        float: The total resistance in ohms of the resistors connected in series.\n",
      "    \n",
      "{'resistors': list | tuple, 'return': <class 'float'>}\n"
     ]
    }
   ],
   "source": [
    "# Printing the docstring and annotations\n",
    "print(series.__doc__)\n",
    "print(series.__annotations__)"
   ]
  },
  {
   "cell_type": "code",
   "execution_count": 62,
   "metadata": {},
   "outputs": [
    {
     "name": "stdout",
     "output_type": "stream",
     "text": [
      "Net Resistance in Series: 165 ohms\n"
     ]
    }
   ],
   "source": [
    "# List\n",
    "resistors = [11, 22, 33, 44, 55]\n",
    "net_resistance = series(resistors)\n",
    "print(f\"Net Resistance in Series: {net_resistance} ohms\")"
   ]
  },
  {
   "cell_type": "code",
   "execution_count": 63,
   "metadata": {},
   "outputs": [
    {
     "name": "stdout",
     "output_type": "stream",
     "text": [
      "Net Resistance in Series: 116 ohms\n"
     ]
    }
   ],
   "source": [
    "# Tuple\n",
    "resistors = (8, 12, 23, 43, 30)\n",
    "net_resistance = series(resistors)\n",
    "print(f\"Net Resistance in Series: {net_resistance} ohms\")"
   ]
  },
  {
   "cell_type": "markdown",
   "metadata": {},
   "source": [
    "#### **TASK (VI).**\n",
    "***Define a function with name parallel. The function will take a list or tuple of resisters. The function \n",
    "will return the net resistance. Note that your function must be capable for any number of \n",
    "resisters. Note: Use elegant approach. Include appropriate docstrings. Print the doc string. Also \n",
    "add annotation to the function parameters and return type. In addition, display annotation using\n",
    "special dunder attribute of the function called __annotations__.***"
   ]
  },
  {
   "cell_type": "code",
   "execution_count": 64,
   "metadata": {},
   "outputs": [],
   "source": [
    "def parallel(resistances: list | tuple) -> float:\n",
    "    \"\"\"\n",
    "    Calculates the net resistance for resistors connected in parallel.\n",
    "    Args:\n",
    "        resistances (list or tuple): A list or tuple of resistances.\n",
    "        \n",
    "    Returns:\n",
    "        float:The net resistance of the resistors connected in parallel.\n",
    "    \"\"\"\n",
    "     # Sum of reciprocals of resistances\n",
    "    reciprocal_sum = sum(1 / r for r in resistances)\n",
    "    \n",
    "    # Return the reciprocal of the sum\n",
    "    return 1 / reciprocal_sum"
   ]
  },
  {
   "cell_type": "code",
   "execution_count": 65,
   "metadata": {},
   "outputs": [
    {
     "name": "stdout",
     "output_type": "stream",
     "text": [
      "\n",
      "    Calculates the net resistance for resistors connected in parallel.\n",
      "    Args:\n",
      "        resistances (list or tuple): A list or tuple of resistances.\n",
      "        \n",
      "    Returns:\n",
      "        float:The net resistance of the resistors connected in parallel.\n",
      "    \n",
      "{'resistances': list | tuple, 'return': <class 'float'>}\n"
     ]
    }
   ],
   "source": [
    "# Printing the docstring and annotations\n",
    "print(parallel.__doc__)\n",
    "print(parallel.__annotations__)"
   ]
  },
  {
   "cell_type": "code",
   "execution_count": 66,
   "metadata": {},
   "outputs": [
    {
     "name": "stdout",
     "output_type": "stream",
     "text": [
      "Total Of Resistance in Parallel is (4.38) Ohms\n"
     ]
    }
   ],
   "source": [
    "resistors = [10, 20, 30, 40, 50]\n",
    "total_resistance = parallel(resistors)\n",
    "print(f\"Total Of Resistance in Parallel is ({total_resistance:.2f}) Ohms\")"
   ]
  },
  {
   "cell_type": "markdown",
   "metadata": {},
   "source": [
    "#### **TASK (VII).**\n",
    "***Define a function with name series. The function will take resisters values and use *args for tuple \n",
    "packing. The function will return the net resistance. Note that your function must be capable for \n",
    "any number of resisters. Note: Use elegant approach. Include appropriate docstrings. Also add\n",
    "annotation to the function parameters and return type. In addition, display annotation using\n",
    "special dunder attribute of the function called __annotations__.***"
   ]
  },
  {
   "cell_type": "code",
   "execution_count": 67,
   "metadata": {},
   "outputs": [
    {
     "name": "stdout",
     "output_type": "stream",
     "text": [
      "{'resistors': <class 'float'>, 'return': <class 'float'>}\n"
     ]
    }
   ],
   "source": [
    "def series(*resistors: float) -> float:\n",
    "    \"\"\"\n",
    "    Calculates the total resistance of resistors connected in series.\n",
    "    Args:\n",
    "        *resistors: A variable number of resistor values (in ohms).\n",
    "    Returns:\n",
    "        The total resistance (in ohms) as a float.\n",
    "    \"\"\"\n",
    "    return sum(resistors)\n",
    "\n",
    "# Display the annotations using the special dunder attribute\n",
    "print(series.__annotations__)"
   ]
  },
  {
   "cell_type": "code",
   "execution_count": 68,
   "metadata": {},
   "outputs": [
    {
     "name": "stdout",
     "output_type": "stream",
     "text": [
      "60\n",
      "16.0\n"
     ]
    }
   ],
   "source": [
    "print(series(10, 20, 30))\n",
    "print(series(5.5, 2.2, 8.3))"
   ]
  },
  {
   "cell_type": "markdown",
   "metadata": {},
   "source": [
    "#### **TASK (VIII).**\n",
    "***Define a function with name parallel. The function will take resisters values and use * args for tuple\n",
    "packing. The function will return the net resistance. Note that your function must be capable for\n",
    "any number of resisters. Note: Use elegant approach. Include appropriate docstrings. Print the\n",
    "doc string. Also add annotation to the function parameters and return type. In addition, display\n",
    "annotation using special dunder attribute of the function called __annotations__.***"
   ]
  },
  {
   "cell_type": "code",
   "execution_count": 69,
   "metadata": {},
   "outputs": [],
   "source": [
    "def parallel(*resistors: float) -> float:\n",
    "    \"\"\"\n",
    "    Calculates the total resistance of resistors connected in parallel.\n",
    "    Args:\n",
    "        *resistors: A variable number of resistor values (in ohms).\n",
    "    Returns:\n",
    "        The total resistance (in ohms) as a float.\n",
    "            Note:\n",
    "        For parallel resistors, the formula is:\n",
    "        1 / R_total = 1 / R1 + 1 / R2 + ... + 1 / Rn\n",
    "    \"\"\"\n",
    "    if not resistors:\n",
    "        return 0  # If no resistors are passed, return 0.\n",
    "    return 1 / sum(1 / r for r in resistors)"
   ]
  },
  {
   "cell_type": "code",
   "execution_count": 70,
   "metadata": {},
   "outputs": [
    {
     "name": "stdout",
     "output_type": "stream",
     "text": [
      "\n",
      "    Calculates the total resistance of resistors connected in parallel.\n",
      "    Args:\n",
      "        *resistors: A variable number of resistor values (in ohms).\n",
      "    Returns:\n",
      "        The total resistance (in ohms) as a float.\n",
      "            Note:\n",
      "        For parallel resistors, the formula is:\n",
      "        1 / R_total = 1 / R1 + 1 / R2 + ... + 1 / Rn\n",
      "    \n",
      "{'resistors': <class 'float'>, 'return': <class 'float'>}\n"
     ]
    }
   ],
   "source": [
    "# Print the docstring\n",
    "print(parallel.__doc__)\n",
    "\n",
    "# Display the annotations using the special dunder attribute\n",
    "print(parallel.__annotations__)"
   ]
  },
  {
   "cell_type": "code",
   "execution_count": 71,
   "metadata": {},
   "outputs": [
    {
     "name": "stdout",
     "output_type": "stream",
     "text": [
      "5.7142857142857135\n",
      "1.4610611408402596\n"
     ]
    }
   ],
   "source": [
    "print(parallel(10, 20, 40))\n",
    "print(parallel(5.9, 2.5, 8.7))"
   ]
  },
  {
   "cell_type": "markdown",
   "metadata": {},
   "source": [
    "#### **TASK (IX).**\n",
    "***Consider a scenario in which you receive the data of battery SOC (% age), solar generation (Kw)\n",
    "and market price (per unit in rupees) from a hybrid solar inverter that are connected with green\n",
    "meter in a list or tuple like [60, 2, 60] or (60, 2, 60). Design a function that will print these values\n",
    "in a well format. Note use the tuple or list unpacking. Include appropriate docstrings. Print the\n",
    "doc string. Also add annotation to the function parameters and return type. In addition, display\n",
    "annotation using special dunder attribute of the function called __annotations__.***"
   ]
  },
  {
   "cell_type": "code",
   "execution_count": 72,
   "metadata": {},
   "outputs": [
    {
     "name": "stdout",
     "output_type": "stream",
     "text": [
      "\n",
      "    Prints the data of a hybrid solar inverter in a well-formatted manner.\n",
      "\n",
      "    Args:\n",
      "        data: A tuple or list containing the following values:\n",
      "              - Battery SOC (State of Charge) in percentage (int)\n",
      "              - Solar generation in kilowatts (float)\n",
      "              - Market price per unit in rupees (float)\n",
      "\n",
      "    Returns:\n",
      "        None\n",
      "    \n",
      "{'data': tuple[int, float, float] | list[int, float, float], 'return': None}\n"
     ]
    }
   ],
   "source": [
    "def print_inverter_data(data: tuple[int, float, float] | list[int, float, float]) -> None:\n",
    "    \"\"\"\n",
    "    Prints the data of a hybrid solar inverter in a well-formatted manner.\n",
    "\n",
    "    Args:\n",
    "        data: A tuple or list containing the following values:\n",
    "              - Battery SOC (State of Charge) in percentage (int)\n",
    "              - Solar generation in kilowatts (float)\n",
    "              - Market price per unit in rupees (float)\n",
    "\n",
    "    Returns:\n",
    "        None\n",
    "    \"\"\"\n",
    "    battery_soc, solar_generation, market_price = data\n",
    "    print(f\"Battery SOC: {battery_soc}%\")\n",
    "    print(f\"Solar Generation: {solar_generation} kW\")\n",
    "    print(f\"Market Price: {market_price} Rs/unit\")\n",
    "\n",
    "# Print the docstring\n",
    "print(print_inverter_data.__doc__)\n",
    "\n",
    "# Display the annotations using the special dunder attribute\n",
    "print(print_inverter_data.__annotations__)\n"
   ]
  },
  {
   "cell_type": "code",
   "execution_count": 73,
   "metadata": {},
   "outputs": [
    {
     "name": "stdout",
     "output_type": "stream",
     "text": [
      "Battery SOC: 60%\n",
      "Solar Generation: 2.5 kW\n",
      "Market Price: 65.0 Rs/unit\n",
      "Battery SOC: 75%\n",
      "Solar Generation: 3.0 kW\n",
      "Market Price: 70.0 Rs/unit\n"
     ]
    }
   ],
   "source": [
    "# Using a tuple\n",
    "print_inverter_data((60, 2.5, 65.0))\n",
    "\n",
    "# Using a list\n",
    "print_inverter_data([75, 3.0, 70.0])"
   ]
  },
  {
   "cell_type": "markdown",
   "metadata": {},
   "source": [
    "#### **TASK (X).**\n",
    "***The more elegant approach is to pass dictionary and use dictionary unpacking. Consider a \n",
    "scenario in which you receive the data of battery SOC (% age), solar generation (Kw) and market \n",
    "price (per unit in rupees) from a hybrid solar inverter that are connected with green meter in a \n",
    "dictionary like {‘SOC’: 60, ‘solar generation’: 2, ‘price’: 60}. Design a function that will receive\n",
    "this dictionary and print these values in a well format. Include appropriate docstrings. Also add\n",
    "annotation to the function parameters and return type. In addition, display annotation using \n",
    "special dunder attribute of the function called __annotations__.***"
   ]
  },
  {
   "cell_type": "code",
   "execution_count": 74,
   "metadata": {},
   "outputs": [],
   "source": [
    "def print_inverter_data_dict(data: dict[str, int | float]) -> None:\n",
    "    \"\"\"\n",
    "    Prints the data of a hybrid solar inverter from a dictionary in a well-formatted manner.\n",
    "    Args:\n",
    "        data: A dictionary containing the following keys:\n",
    "              - 'SOC' (State of Charge) in percentage (int)\n",
    "              - 'solar generation' in kilowatts (float)\n",
    "              - 'price' (Market price per unit in rupees) (float)\n",
    "    Returns:\n",
    "        None\n",
    "    \"\"\"\n",
    "    # Unpacking the dictionary\n",
    "    soc, solar_gen, price = data['SOC'], data['solar generation'], data['price']\n",
    "    \n",
    "    # Print the formatted values\n",
    "    print(f\"Battery SOC: {soc}%\")\n",
    "    print(f\"Solar Generation: {solar_gen} kW\")\n",
    "    print(f\"Market Price: {price} Rs/unit\")\n",
    "\n"
   ]
  },
  {
   "cell_type": "code",
   "execution_count": 75,
   "metadata": {},
   "outputs": [
    {
     "name": "stdout",
     "output_type": "stream",
     "text": [
      "\n",
      "    Prints the data of a hybrid solar inverter from a dictionary in a well-formatted manner.\n",
      "    Args:\n",
      "        data: A dictionary containing the following keys:\n",
      "              - 'SOC' (State of Charge) in percentage (int)\n",
      "              - 'solar generation' in kilowatts (float)\n",
      "              - 'price' (Market price per unit in rupees) (float)\n",
      "    Returns:\n",
      "        None\n",
      "    \n",
      "{'data': dict[str, int | float], 'return': None}\n"
     ]
    }
   ],
   "source": [
    "# Print the docstring\n",
    "print(print_inverter_data_dict.__doc__)\n",
    "\n",
    "# Display the annotations using the special dunder attribute\n",
    "print(print_inverter_data_dict.__annotations__)"
   ]
  },
  {
   "cell_type": "code",
   "execution_count": null,
   "metadata": {},
   "outputs": [
    {
     "name": "stdout",
     "output_type": "stream",
     "text": [
      "Battery SOC: 60%\n",
      "Solar Generation: 2.5 kW\n",
      "Market Price: 65.0 Rs/unit\n"
     ]
    }
   ],
   "source": [
    "inverter_data = {'SOC': 60, 'solar generation': 2.5, 'price': 65.0}\n",
    "print_inverter_data_dict(inverter_data)"
   ]
  },
  {
   "cell_type": "markdown",
   "metadata": {},
   "source": [
    "#### **TASK (XI).**\n",
    "***Change the scenario while keep the more elegant approach of pass dictionary and use dictionary \n",
    "packing. Consider a scenario in which you receive the data of battery SOC (% age), solar \n",
    "generation (Kw) and market price (per unit in rupees) from a hybrid solar inverter that are \n",
    "connected with green meter in a dictionary like {‘SOC’: 60, ‘solar generation’: 2, ‘price’: 60}. Let \n",
    "you pass these value in a function call like solar (SOC = 60, solar generation = 2, price = 60). \n",
    "Design a function that will receive these argument as a dictionary and print these values in a \n",
    "well format. Include appropriate docstrings. Also add annotation to the function parameters and \n",
    "return type. In addition, display annotation using special dunder attribute of the function \n",
    "called __annotations__.***"
   ]
  },
  {
   "cell_type": "code",
   "execution_count": 77,
   "metadata": {},
   "outputs": [],
   "source": [
    "def solar(**data: dict[str, int | float]) -> None:\n",
    "    \"\"\"\n",
    "    Prints the data of a hybrid solar inverter from keyword arguments in a well-formatted manner.\n",
    "    Args:\n",
    "        **data: A dictionary created from keyword arguments, containing:\n",
    "              - 'SOC' (State of Charge) in percentage (int)\n",
    "              - 'solar generation' in kilowatts (float)\n",
    "              - 'price' (Market price per unit in rupees) (float)\n",
    "    Returns:\n",
    "        None\n",
    "    \"\"\"\n",
    "    # Unpacking the dictionary from keyword arguments\n",
    "    soc = data.get('SOC')\n",
    "    solar_gen = data.get('solar generation')\n",
    "    price = data.get('price')\n",
    "    \n",
    "    # Print the formatted values\n",
    "    print(f\"Battery SOC: {soc}%\")\n",
    "    print(f\"Solar Generation: {solar_gen} kW\")\n",
    "    print(f\"Market Price: {price} Rs/unit\")\n",
    "\n",
    "\n"
   ]
  },
  {
   "cell_type": "code",
   "execution_count": 78,
   "metadata": {},
   "outputs": [
    {
     "name": "stdout",
     "output_type": "stream",
     "text": [
      "\n",
      "    Prints the data of a hybrid solar inverter from keyword arguments in a well-formatted manner.\n",
      "    Args:\n",
      "        **data: A dictionary created from keyword arguments, containing:\n",
      "              - 'SOC' (State of Charge) in percentage (int)\n",
      "              - 'solar generation' in kilowatts (float)\n",
      "              - 'price' (Market price per unit in rupees) (float)\n",
      "    Returns:\n",
      "        None\n",
      "    \n",
      "{'data': dict[str, int | float], 'return': None}\n"
     ]
    }
   ],
   "source": [
    "# Print the docstring\n",
    "print(solar.__doc__)\n",
    "\n",
    "# Display the annotations using the special dunder attribute\n",
    "print(solar.__annotations__)"
   ]
  },
  {
   "cell_type": "code",
   "execution_count": 79,
   "metadata": {},
   "outputs": [
    {
     "name": "stdout",
     "output_type": "stream",
     "text": [
      "Battery SOC: 60%\n",
      "Solar Generation: None kW\n",
      "Market Price: 65.0 Rs/unit\n"
     ]
    }
   ],
   "source": [
    "solar(SOC=60, solar_generation=2.5, price=65.0)"
   ]
  },
  {
   "cell_type": "markdown",
   "metadata": {},
   "source": [
    "---"
   ]
  }
 ],
 "metadata": {
  "kernelspec": {
   "display_name": "Python 3",
   "language": "python",
   "name": "python3"
  },
  "language_info": {
   "codemirror_mode": {
    "name": "ipython",
    "version": 3
   },
   "file_extension": ".py",
   "mimetype": "text/x-python",
   "name": "python",
   "nbconvert_exporter": "python",
   "pygments_lexer": "ipython3",
   "version": "3.12.8"
  }
 },
 "nbformat": 4,
 "nbformat_minor": 2
}
